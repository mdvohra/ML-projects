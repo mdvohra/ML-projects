{
 "cells": [
  {
   "cell_type": "code",
   "execution_count": 3,
   "id": "5ecc0cbd",
   "metadata": {},
   "outputs": [
    {
     "data": {
      "application/vnd.jupyter.widget-view+json": {
       "model_id": "bbb8701a2a1b473387777e0bc1db024a",
       "version_major": 2,
       "version_minor": 0
      },
      "text/plain": [
       "Dropdown(description='Model:', options=('Logistic Regression', 'Decision Tree', 'Random Forest', 'AdaBoost', '…"
      ]
     },
     "metadata": {},
     "output_type": "display_data"
    },
    {
     "data": {
      "application/vnd.jupyter.widget-view+json": {
       "model_id": "5adde851918445d387ab6cf4f0fe92d9",
       "version_major": 2,
       "version_minor": 0
      },
      "text/plain": [
       "Button(description='Calculate Accuracy', style=ButtonStyle())"
      ]
     },
     "metadata": {},
     "output_type": "display_data"
    },
    {
     "ename": "NameError",
     "evalue": "name 'X_train' is not defined",
     "output_type": "error",
     "traceback": [
      "\u001b[1;31m---------------------------------------------------------------------------\u001b[0m",
      "\u001b[1;31mNameError\u001b[0m                                 Traceback (most recent call last)",
      "\u001b[1;32m~\\AppData\\Local\\Temp\\ipykernel_25576\\3126240411.py\u001b[0m in \u001b[0;36mon_button_click\u001b[1;34m(b)\u001b[0m\n\u001b[0;32m     17\u001b[0m \u001b[1;33m\u001b[0m\u001b[0m\n\u001b[0;32m     18\u001b[0m     \u001b[1;31m# Train the model and make predictions\u001b[0m\u001b[1;33m\u001b[0m\u001b[1;33m\u001b[0m\u001b[0m\n\u001b[1;32m---> 19\u001b[1;33m     \u001b[0mm\u001b[0m \u001b[1;33m=\u001b[0m \u001b[0mmodel\u001b[0m\u001b[1;33m.\u001b[0m\u001b[0mfit\u001b[0m\u001b[1;33m(\u001b[0m\u001b[0mX_train\u001b[0m\u001b[1;33m,\u001b[0m\u001b[0my_train\u001b[0m\u001b[1;33m)\u001b[0m\u001b[1;33m\u001b[0m\u001b[1;33m\u001b[0m\u001b[0m\n\u001b[0m\u001b[0;32m     20\u001b[0m     \u001b[0my_pred\u001b[0m \u001b[1;33m=\u001b[0m \u001b[0mmodel\u001b[0m\u001b[1;33m.\u001b[0m\u001b[0mpredict\u001b[0m\u001b[1;33m(\u001b[0m\u001b[0mX_test\u001b[0m\u001b[1;33m)\u001b[0m\u001b[1;33m\u001b[0m\u001b[1;33m\u001b[0m\u001b[0m\n\u001b[0;32m     21\u001b[0m \u001b[1;33m\u001b[0m\u001b[0m\n",
      "\u001b[1;31mNameError\u001b[0m: name 'X_train' is not defined"
     ]
    }
   ],
   "source": [
    "import ipywidgets as widgets\n",
    "from IPython.display import display\n",
    "\n",
    "# Define the models\n",
    "model_list = [(\"Logistic Regression\",LogisticRegression()),(\"Decision Tree\",DecisionTreeClassifier()),(\"Random Forest\",RandomForestClassifier(max_depth=10,min_samples_split=2,n_estimators=30)),(\"AdaBoost\",AdaBoostClassifier()),\n",
    "              (\"Support Vector Machine\",SVC()),(\"Bernoulli Naive Bayes\",BernoulliNB()),(\"Naive Bayes\",GaussianNB())]\n",
    "\n",
    "# Create the widgets\n",
    "model_dropdown = widgets.Dropdown(options=[model[0] for model in model_list], description='Model:')\n",
    "calculate_button = widgets.Button(description='Calculate Accuracy')\n",
    "\n",
    "# Define the event handler for the button\n",
    "def on_button_click(b):\n",
    "    # Get the selected model\n",
    "    model_name = model_dropdown.value\n",
    "    model = [model[1] for model in model_list if model[0] == model_name][0]\n",
    "    \n",
    "    # Train the model and make predictions\n",
    "    m = model.fit(X_train,y_train)\n",
    "    y_pred = model.predict(X_test)\n",
    "    \n",
    "    # Display the accuracy score\n",
    "    accuracy = accuracy_score(y_test,y_pred)*100\n",
    "    print(f'{model_name} : {accuracy} %')\n",
    "\n",
    "# Attach the event handler to the button\n",
    "calculate_button.on_click(on_button_click)\n",
    "\n",
    "# Display the widgets\n",
    "display(model_dropdown, calculate_button)\n"
   ]
  },
  {
   "cell_type": "code",
   "execution_count": 2,
   "id": "ce2db40e",
   "metadata": {},
   "outputs": [],
   "source": [
    "import sklearn\n",
    "from sklearn.model_selection import train_test_split,GridSearchCV,ShuffleSplit\n",
    "from sklearn.preprocessing import StandardScaler,OneHotEncoder\n",
    "from sklearn.linear_model import LogisticRegression\n",
    "from sklearn.tree import DecisionTreeClassifier\n",
    "from sklearn.ensemble import RandomForestClassifier,AdaBoostClassifier\n",
    "from sklearn.naive_bayes import BernoulliNB,GaussianNB\n",
    "from sklearn.svm import SVC\n",
    "from sklearn.metrics import accuracy_score,precision_score,recall_score,f1_score,confusion_matrix,classification_report"
   ]
  },
  {
   "cell_type": "code",
   "execution_count": null,
   "id": "78a0402f",
   "metadata": {},
   "outputs": [],
   "source": []
  }
 ],
 "metadata": {
  "kernelspec": {
   "display_name": "Python 3 (ipykernel)",
   "language": "python",
   "name": "python3"
  },
  "language_info": {
   "codemirror_mode": {
    "name": "ipython",
    "version": 3
   },
   "file_extension": ".py",
   "mimetype": "text/x-python",
   "name": "python",
   "nbconvert_exporter": "python",
   "pygments_lexer": "ipython3",
   "version": "3.9.13"
  }
 },
 "nbformat": 4,
 "nbformat_minor": 5
}
