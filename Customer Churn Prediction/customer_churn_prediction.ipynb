{
 "cells": [
  {
   "cell_type": "code",
   "execution_count": 1,
   "id": "6a4f1a89",
   "metadata": {
    "execution": {
     "iopub.execute_input": "2023-02-03T18:05:42.455883Z",
     "iopub.status.busy": "2023-02-03T18:05:42.455424Z",
     "iopub.status.idle": "2023-02-03T18:05:43.600941Z",
     "shell.execute_reply": "2023-02-03T18:05:43.599976Z"
    },
    "papermill": {
     "duration": 1.173809,
     "end_time": "2023-02-03T18:05:43.603731",
     "exception": false,
     "start_time": "2023-02-03T18:05:42.429922",
     "status": "completed"
    },
    "tags": []
   },
   "outputs": [],
   "source": [
    "import numpy as np \n",
    "import pandas as pd \n",
    "import matplotlib.pyplot as plt\n",
    "import seaborn as sns\n",
    "%matplotlib inline"
   ]
  },
  {
   "cell_type": "code",
   "execution_count": 2,
   "id": "82332d6c",
   "metadata": {
    "execution": {
     "iopub.execute_input": "2023-02-03T18:05:43.651573Z",
     "iopub.status.busy": "2023-02-03T18:05:43.650776Z",
     "iopub.status.idle": "2023-02-03T18:05:43.688196Z",
     "shell.execute_reply": "2023-02-03T18:05:43.687156Z"
    },
    "papermill": {
     "duration": 0.063975,
     "end_time": "2023-02-03T18:05:43.691109",
     "exception": false,
     "start_time": "2023-02-03T18:05:43.627134",
     "status": "completed"
    },
    "tags": []
   },
   "outputs": [],
   "source": [
    "data = pd.read_csv('bank.csv',sep=';')"
   ]
  },
  {
   "cell_type": "markdown",
   "id": "f34ac1ac",
   "metadata": {
    "papermill": {
     "duration": 0.021442,
     "end_time": "2023-02-03T18:05:43.734843",
     "exception": false,
     "start_time": "2023-02-03T18:05:43.713401",
     "status": "completed"
    },
    "tags": []
   },
   "source": [
    "**EDA**"
   ]
  },
  {
   "cell_type": "code",
   "execution_count": 3,
   "id": "27a618c8",
   "metadata": {
    "execution": {
     "iopub.execute_input": "2023-02-03T18:05:43.780376Z",
     "iopub.status.busy": "2023-02-03T18:05:43.779863Z",
     "iopub.status.idle": "2023-02-03T18:05:43.809924Z",
     "shell.execute_reply": "2023-02-03T18:05:43.808576Z"
    },
    "papermill": {
     "duration": 0.055721,
     "end_time": "2023-02-03T18:05:43.812466",
     "exception": false,
     "start_time": "2023-02-03T18:05:43.756745",
     "status": "completed"
    },
    "tags": []
   },
   "outputs": [
    {
     "data": {
      "text/html": [
       "<div>\n",
       "<style scoped>\n",
       "    .dataframe tbody tr th:only-of-type {\n",
       "        vertical-align: middle;\n",
       "    }\n",
       "\n",
       "    .dataframe tbody tr th {\n",
       "        vertical-align: top;\n",
       "    }\n",
       "\n",
       "    .dataframe thead th {\n",
       "        text-align: right;\n",
       "    }\n",
       "</style>\n",
       "<table border=\"1\" class=\"dataframe\">\n",
       "  <thead>\n",
       "    <tr style=\"text-align: right;\">\n",
       "      <th></th>\n",
       "      <th>age</th>\n",
       "      <th>job</th>\n",
       "      <th>marital</th>\n",
       "      <th>education</th>\n",
       "      <th>default</th>\n",
       "      <th>balance</th>\n",
       "      <th>housing</th>\n",
       "      <th>loan</th>\n",
       "      <th>contact</th>\n",
       "      <th>day</th>\n",
       "      <th>month</th>\n",
       "      <th>duration</th>\n",
       "      <th>campaign</th>\n",
       "      <th>pdays</th>\n",
       "      <th>previous</th>\n",
       "      <th>poutcome</th>\n",
       "      <th>y</th>\n",
       "    </tr>\n",
       "  </thead>\n",
       "  <tbody>\n",
       "    <tr>\n",
       "      <th>0</th>\n",
       "      <td>30</td>\n",
       "      <td>unemployed</td>\n",
       "      <td>married</td>\n",
       "      <td>primary</td>\n",
       "      <td>no</td>\n",
       "      <td>1787</td>\n",
       "      <td>no</td>\n",
       "      <td>no</td>\n",
       "      <td>cellular</td>\n",
       "      <td>19</td>\n",
       "      <td>oct</td>\n",
       "      <td>79</td>\n",
       "      <td>1</td>\n",
       "      <td>-1</td>\n",
       "      <td>0</td>\n",
       "      <td>unknown</td>\n",
       "      <td>no</td>\n",
       "    </tr>\n",
       "    <tr>\n",
       "      <th>1</th>\n",
       "      <td>33</td>\n",
       "      <td>services</td>\n",
       "      <td>married</td>\n",
       "      <td>secondary</td>\n",
       "      <td>no</td>\n",
       "      <td>4789</td>\n",
       "      <td>yes</td>\n",
       "      <td>yes</td>\n",
       "      <td>cellular</td>\n",
       "      <td>11</td>\n",
       "      <td>may</td>\n",
       "      <td>220</td>\n",
       "      <td>1</td>\n",
       "      <td>339</td>\n",
       "      <td>4</td>\n",
       "      <td>failure</td>\n",
       "      <td>no</td>\n",
       "    </tr>\n",
       "    <tr>\n",
       "      <th>2</th>\n",
       "      <td>35</td>\n",
       "      <td>management</td>\n",
       "      <td>single</td>\n",
       "      <td>tertiary</td>\n",
       "      <td>no</td>\n",
       "      <td>1350</td>\n",
       "      <td>yes</td>\n",
       "      <td>no</td>\n",
       "      <td>cellular</td>\n",
       "      <td>16</td>\n",
       "      <td>apr</td>\n",
       "      <td>185</td>\n",
       "      <td>1</td>\n",
       "      <td>330</td>\n",
       "      <td>1</td>\n",
       "      <td>failure</td>\n",
       "      <td>no</td>\n",
       "    </tr>\n",
       "    <tr>\n",
       "      <th>3</th>\n",
       "      <td>30</td>\n",
       "      <td>management</td>\n",
       "      <td>married</td>\n",
       "      <td>tertiary</td>\n",
       "      <td>no</td>\n",
       "      <td>1476</td>\n",
       "      <td>yes</td>\n",
       "      <td>yes</td>\n",
       "      <td>unknown</td>\n",
       "      <td>3</td>\n",
       "      <td>jun</td>\n",
       "      <td>199</td>\n",
       "      <td>4</td>\n",
       "      <td>-1</td>\n",
       "      <td>0</td>\n",
       "      <td>unknown</td>\n",
       "      <td>no</td>\n",
       "    </tr>\n",
       "    <tr>\n",
       "      <th>4</th>\n",
       "      <td>59</td>\n",
       "      <td>blue-collar</td>\n",
       "      <td>married</td>\n",
       "      <td>secondary</td>\n",
       "      <td>no</td>\n",
       "      <td>0</td>\n",
       "      <td>yes</td>\n",
       "      <td>no</td>\n",
       "      <td>unknown</td>\n",
       "      <td>5</td>\n",
       "      <td>may</td>\n",
       "      <td>226</td>\n",
       "      <td>1</td>\n",
       "      <td>-1</td>\n",
       "      <td>0</td>\n",
       "      <td>unknown</td>\n",
       "      <td>no</td>\n",
       "    </tr>\n",
       "  </tbody>\n",
       "</table>\n",
       "</div>"
      ],
      "text/plain": [
       "   age          job  marital  education default  balance housing loan  \\\n",
       "0   30   unemployed  married    primary      no     1787      no   no   \n",
       "1   33     services  married  secondary      no     4789     yes  yes   \n",
       "2   35   management   single   tertiary      no     1350     yes   no   \n",
       "3   30   management  married   tertiary      no     1476     yes  yes   \n",
       "4   59  blue-collar  married  secondary      no        0     yes   no   \n",
       "\n",
       "    contact  day month  duration  campaign  pdays  previous poutcome   y  \n",
       "0  cellular   19   oct        79         1     -1         0  unknown  no  \n",
       "1  cellular   11   may       220         1    339         4  failure  no  \n",
       "2  cellular   16   apr       185         1    330         1  failure  no  \n",
       "3   unknown    3   jun       199         4     -1         0  unknown  no  \n",
       "4   unknown    5   may       226         1     -1         0  unknown  no  "
      ]
     },
     "execution_count": 3,
     "metadata": {},
     "output_type": "execute_result"
    }
   ],
   "source": [
    "data.head()"
   ]
  },
  {
   "cell_type": "code",
   "execution_count": 4,
   "id": "d413215a",
   "metadata": {
    "execution": {
     "iopub.execute_input": "2023-02-03T18:05:43.860007Z",
     "iopub.status.busy": "2023-02-03T18:05:43.859547Z",
     "iopub.status.idle": "2023-02-03T18:05:43.867844Z",
     "shell.execute_reply": "2023-02-03T18:05:43.866492Z"
    },
    "papermill": {
     "duration": 0.034671,
     "end_time": "2023-02-03T18:05:43.870244",
     "exception": false,
     "start_time": "2023-02-03T18:05:43.835573",
     "status": "completed"
    },
    "tags": []
   },
   "outputs": [
    {
     "data": {
      "text/plain": [
       "Index(['age', 'job', 'marital', 'education', 'default', 'balance', 'housing',\n",
       "       'loan', 'contact', 'day', 'month', 'duration', 'campaign', 'pdays',\n",
       "       'previous', 'poutcome', 'y'],\n",
       "      dtype='object')"
      ]
     },
     "execution_count": 4,
     "metadata": {},
     "output_type": "execute_result"
    }
   ],
   "source": [
    "data.columns"
   ]
  },
  {
   "cell_type": "code",
   "execution_count": 5,
   "id": "e219bd7d",
   "metadata": {
    "execution": {
     "iopub.execute_input": "2023-02-03T18:05:43.917200Z",
     "iopub.status.busy": "2023-02-03T18:05:43.916694Z",
     "iopub.status.idle": "2023-02-03T18:05:43.924533Z",
     "shell.execute_reply": "2023-02-03T18:05:43.923456Z"
    },
    "papermill": {
     "duration": 0.03436,
     "end_time": "2023-02-03T18:05:43.926873",
     "exception": false,
     "start_time": "2023-02-03T18:05:43.892513",
     "status": "completed"
    },
    "tags": []
   },
   "outputs": [
    {
     "data": {
      "text/plain": [
       "(4521, 17)"
      ]
     },
     "execution_count": 5,
     "metadata": {},
     "output_type": "execute_result"
    }
   ],
   "source": [
    "data.shape"
   ]
  },
  {
   "cell_type": "code",
   "execution_count": 6,
   "id": "e222bb51",
   "metadata": {
    "execution": {
     "iopub.execute_input": "2023-02-03T18:05:43.973975Z",
     "iopub.status.busy": "2023-02-03T18:05:43.973549Z",
     "iopub.status.idle": "2023-02-03T18:05:44.001940Z",
     "shell.execute_reply": "2023-02-03T18:05:44.000515Z"
    },
    "papermill": {
     "duration": 0.056339,
     "end_time": "2023-02-03T18:05:44.005678",
     "exception": false,
     "start_time": "2023-02-03T18:05:43.949339",
     "status": "completed"
    },
    "tags": []
   },
   "outputs": [
    {
     "name": "stdout",
     "output_type": "stream",
     "text": [
      "<class 'pandas.core.frame.DataFrame'>\n",
      "RangeIndex: 4521 entries, 0 to 4520\n",
      "Data columns (total 17 columns):\n",
      " #   Column     Non-Null Count  Dtype \n",
      "---  ------     --------------  ----- \n",
      " 0   age        4521 non-null   int64 \n",
      " 1   job        4521 non-null   object\n",
      " 2   marital    4521 non-null   object\n",
      " 3   education  4521 non-null   object\n",
      " 4   default    4521 non-null   object\n",
      " 5   balance    4521 non-null   int64 \n",
      " 6   housing    4521 non-null   object\n",
      " 7   loan       4521 non-null   object\n",
      " 8   contact    4521 non-null   object\n",
      " 9   day        4521 non-null   int64 \n",
      " 10  month      4521 non-null   object\n",
      " 11  duration   4521 non-null   int64 \n",
      " 12  campaign   4521 non-null   int64 \n",
      " 13  pdays      4521 non-null   int64 \n",
      " 14  previous   4521 non-null   int64 \n",
      " 15  poutcome   4521 non-null   object\n",
      " 16  y          4521 non-null   object\n",
      "dtypes: int64(7), object(10)\n",
      "memory usage: 600.6+ KB\n"
     ]
    }
   ],
   "source": [
    "data.info()"
   ]
  },
  {
   "cell_type": "code",
   "execution_count": 7,
   "id": "9c9dd550",
   "metadata": {
    "execution": {
     "iopub.execute_input": "2023-02-03T18:05:44.054834Z",
     "iopub.status.busy": "2023-02-03T18:05:44.054353Z",
     "iopub.status.idle": "2023-02-03T18:05:44.067709Z",
     "shell.execute_reply": "2023-02-03T18:05:44.066495Z"
    },
    "papermill": {
     "duration": 0.040182,
     "end_time": "2023-02-03T18:05:44.070165",
     "exception": false,
     "start_time": "2023-02-03T18:05:44.029983",
     "status": "completed"
    },
    "tags": []
   },
   "outputs": [
    {
     "data": {
      "text/plain": [
       "age          0\n",
       "job          0\n",
       "marital      0\n",
       "education    0\n",
       "default      0\n",
       "balance      0\n",
       "housing      0\n",
       "loan         0\n",
       "contact      0\n",
       "day          0\n",
       "month        0\n",
       "duration     0\n",
       "campaign     0\n",
       "pdays        0\n",
       "previous     0\n",
       "poutcome     0\n",
       "y            0\n",
       "dtype: int64"
      ]
     },
     "execution_count": 7,
     "metadata": {},
     "output_type": "execute_result"
    }
   ],
   "source": [
    "data.isnull().sum()"
   ]
  },
  {
   "cell_type": "code",
   "execution_count": 8,
   "id": "e347d878",
   "metadata": {
    "execution": {
     "iopub.execute_input": "2023-02-03T18:05:44.117975Z",
     "iopub.status.busy": "2023-02-03T18:05:44.117515Z",
     "iopub.status.idle": "2023-02-03T18:05:44.126069Z",
     "shell.execute_reply": "2023-02-03T18:05:44.124842Z"
    },
    "papermill": {
     "duration": 0.035969,
     "end_time": "2023-02-03T18:05:44.128711",
     "exception": false,
     "start_time": "2023-02-03T18:05:44.092742",
     "status": "completed"
    },
    "tags": []
   },
   "outputs": [
    {
     "data": {
      "text/plain": [
       "array(['unemployed', 'services', 'management', 'blue-collar',\n",
       "       'self-employed', 'technician', 'entrepreneur', 'admin.', 'student',\n",
       "       'housemaid', 'retired', 'unknown'], dtype=object)"
      ]
     },
     "execution_count": 8,
     "metadata": {},
     "output_type": "execute_result"
    }
   ],
   "source": [
    "data.job.unique()"
   ]
  },
  {
   "cell_type": "code",
   "execution_count": 9,
   "id": "e5cddb45",
   "metadata": {
    "execution": {
     "iopub.execute_input": "2023-02-03T18:05:44.176361Z",
     "iopub.status.busy": "2023-02-03T18:05:44.175845Z",
     "iopub.status.idle": "2023-02-03T18:05:44.184778Z",
     "shell.execute_reply": "2023-02-03T18:05:44.183496Z"
    },
    "papermill": {
     "duration": 0.035654,
     "end_time": "2023-02-03T18:05:44.187359",
     "exception": false,
     "start_time": "2023-02-03T18:05:44.151705",
     "status": "completed"
    },
    "tags": []
   },
   "outputs": [
    {
     "data": {
      "text/plain": [
       "array(['married', 'single', 'divorced'], dtype=object)"
      ]
     },
     "execution_count": 9,
     "metadata": {},
     "output_type": "execute_result"
    }
   ],
   "source": [
    "data.marital.unique()"
   ]
  },
  {
   "cell_type": "code",
   "execution_count": 10,
   "id": "db441ac1",
   "metadata": {
    "execution": {
     "iopub.execute_input": "2023-02-03T18:05:44.235717Z",
     "iopub.status.busy": "2023-02-03T18:05:44.235234Z",
     "iopub.status.idle": "2023-02-03T18:05:44.242503Z",
     "shell.execute_reply": "2023-02-03T18:05:44.241610Z"
    },
    "papermill": {
     "duration": 0.034551,
     "end_time": "2023-02-03T18:05:44.245127",
     "exception": false,
     "start_time": "2023-02-03T18:05:44.210576",
     "status": "completed"
    },
    "tags": []
   },
   "outputs": [
    {
     "data": {
      "text/plain": [
       "array(['primary', 'secondary', 'tertiary', 'unknown'], dtype=object)"
      ]
     },
     "execution_count": 10,
     "metadata": {},
     "output_type": "execute_result"
    }
   ],
   "source": [
    "data.education.unique()"
   ]
  },
  {
   "cell_type": "code",
   "execution_count": 11,
   "id": "50f1be95",
   "metadata": {
    "execution": {
     "iopub.execute_input": "2023-02-03T18:05:44.293363Z",
     "iopub.status.busy": "2023-02-03T18:05:44.292892Z",
     "iopub.status.idle": "2023-02-03T18:05:44.301501Z",
     "shell.execute_reply": "2023-02-03T18:05:44.300215Z"
    },
    "papermill": {
     "duration": 0.035554,
     "end_time": "2023-02-03T18:05:44.303789",
     "exception": false,
     "start_time": "2023-02-03T18:05:44.268235",
     "status": "completed"
    },
    "tags": []
   },
   "outputs": [
    {
     "data": {
      "text/plain": [
       "array(['no', 'yes'], dtype=object)"
      ]
     },
     "execution_count": 11,
     "metadata": {},
     "output_type": "execute_result"
    }
   ],
   "source": [
    "data.default.unique()"
   ]
  },
  {
   "cell_type": "code",
   "execution_count": 12,
   "id": "0523da5d",
   "metadata": {
    "execution": {
     "iopub.execute_input": "2023-02-03T18:05:44.352478Z",
     "iopub.status.busy": "2023-02-03T18:05:44.351996Z",
     "iopub.status.idle": "2023-02-03T18:05:44.360391Z",
     "shell.execute_reply": "2023-02-03T18:05:44.359076Z"
    },
    "papermill": {
     "duration": 0.036094,
     "end_time": "2023-02-03T18:05:44.363286",
     "exception": false,
     "start_time": "2023-02-03T18:05:44.327192",
     "status": "completed"
    },
    "tags": []
   },
   "outputs": [
    {
     "data": {
      "text/plain": [
       "array(['no', 'yes'], dtype=object)"
      ]
     },
     "execution_count": 12,
     "metadata": {},
     "output_type": "execute_result"
    }
   ],
   "source": [
    "data.housing.unique()"
   ]
  },
  {
   "cell_type": "code",
   "execution_count": 13,
   "id": "e2caa0db",
   "metadata": {
    "execution": {
     "iopub.execute_input": "2023-02-03T18:05:44.413396Z",
     "iopub.status.busy": "2023-02-03T18:05:44.412922Z",
     "iopub.status.idle": "2023-02-03T18:05:44.422258Z",
     "shell.execute_reply": "2023-02-03T18:05:44.420838Z"
    },
    "papermill": {
     "duration": 0.038176,
     "end_time": "2023-02-03T18:05:44.425032",
     "exception": false,
     "start_time": "2023-02-03T18:05:44.386856",
     "status": "completed"
    },
    "tags": []
   },
   "outputs": [
    {
     "data": {
      "text/plain": [
       "array(['no', 'yes'], dtype=object)"
      ]
     },
     "execution_count": 13,
     "metadata": {},
     "output_type": "execute_result"
    }
   ],
   "source": [
    "data.loan.unique()"
   ]
  },
  {
   "cell_type": "code",
   "execution_count": 14,
   "id": "265d2c25",
   "metadata": {
    "execution": {
     "iopub.execute_input": "2023-02-03T18:05:44.473397Z",
     "iopub.status.busy": "2023-02-03T18:05:44.472948Z",
     "iopub.status.idle": "2023-02-03T18:05:44.480468Z",
     "shell.execute_reply": "2023-02-03T18:05:44.479489Z"
    },
    "papermill": {
     "duration": 0.034235,
     "end_time": "2023-02-03T18:05:44.482581",
     "exception": false,
     "start_time": "2023-02-03T18:05:44.448346",
     "status": "completed"
    },
    "tags": []
   },
   "outputs": [
    {
     "data": {
      "text/plain": [
       "array(['cellular', 'unknown', 'telephone'], dtype=object)"
      ]
     },
     "execution_count": 14,
     "metadata": {},
     "output_type": "execute_result"
    }
   ],
   "source": [
    "data.contact.unique()"
   ]
  },
  {
   "cell_type": "code",
   "execution_count": 15,
   "id": "08ac30ca",
   "metadata": {
    "execution": {
     "iopub.execute_input": "2023-02-03T18:05:44.531718Z",
     "iopub.status.busy": "2023-02-03T18:05:44.531214Z",
     "iopub.status.idle": "2023-02-03T18:05:44.539596Z",
     "shell.execute_reply": "2023-02-03T18:05:44.538385Z"
    },
    "papermill": {
     "duration": 0.036112,
     "end_time": "2023-02-03T18:05:44.542177",
     "exception": false,
     "start_time": "2023-02-03T18:05:44.506065",
     "status": "completed"
    },
    "tags": []
   },
   "outputs": [
    {
     "data": {
      "text/plain": [
       "array(['oct', 'may', 'apr', 'jun', 'feb', 'aug', 'jan', 'jul', 'nov',\n",
       "       'sep', 'mar', 'dec'], dtype=object)"
      ]
     },
     "execution_count": 15,
     "metadata": {},
     "output_type": "execute_result"
    }
   ],
   "source": [
    "data.month.unique()"
   ]
  },
  {
   "cell_type": "code",
   "execution_count": 16,
   "id": "91556af1",
   "metadata": {
    "execution": {
     "iopub.execute_input": "2023-02-03T18:05:44.591670Z",
     "iopub.status.busy": "2023-02-03T18:05:44.591151Z",
     "iopub.status.idle": "2023-02-03T18:05:44.599910Z",
     "shell.execute_reply": "2023-02-03T18:05:44.598634Z"
    },
    "papermill": {
     "duration": 0.036734,
     "end_time": "2023-02-03T18:05:44.602570",
     "exception": false,
     "start_time": "2023-02-03T18:05:44.565836",
     "status": "completed"
    },
    "tags": []
   },
   "outputs": [
    {
     "data": {
      "text/plain": [
       "array(['unknown', 'failure', 'other', 'success'], dtype=object)"
      ]
     },
     "execution_count": 16,
     "metadata": {},
     "output_type": "execute_result"
    }
   ],
   "source": [
    "data.poutcome.unique()"
   ]
  },
  {
   "cell_type": "code",
   "execution_count": 17,
   "id": "803cd530",
   "metadata": {
    "execution": {
     "iopub.execute_input": "2023-02-03T18:05:44.652119Z",
     "iopub.status.busy": "2023-02-03T18:05:44.651687Z",
     "iopub.status.idle": "2023-02-03T18:05:44.658718Z",
     "shell.execute_reply": "2023-02-03T18:05:44.657738Z"
    },
    "papermill": {
     "duration": 0.034804,
     "end_time": "2023-02-03T18:05:44.661152",
     "exception": false,
     "start_time": "2023-02-03T18:05:44.626348",
     "status": "completed"
    },
    "tags": []
   },
   "outputs": [
    {
     "data": {
      "text/plain": [
       "array(['no', 'yes'], dtype=object)"
      ]
     },
     "execution_count": 17,
     "metadata": {},
     "output_type": "execute_result"
    }
   ],
   "source": [
    "data.y.unique()"
   ]
  },
  {
   "cell_type": "code",
   "execution_count": 18,
   "id": "d1fd8c4b",
   "metadata": {
    "execution": {
     "iopub.execute_input": "2023-02-03T18:05:44.710472Z",
     "iopub.status.busy": "2023-02-03T18:05:44.709947Z",
     "iopub.status.idle": "2023-02-03T18:05:44.750566Z",
     "shell.execute_reply": "2023-02-03T18:05:44.749390Z"
    },
    "papermill": {
     "duration": 0.068404,
     "end_time": "2023-02-03T18:05:44.753262",
     "exception": false,
     "start_time": "2023-02-03T18:05:44.684858",
     "status": "completed"
    },
    "tags": []
   },
   "outputs": [
    {
     "data": {
      "text/html": [
       "<div>\n",
       "<style scoped>\n",
       "    .dataframe tbody tr th:only-of-type {\n",
       "        vertical-align: middle;\n",
       "    }\n",
       "\n",
       "    .dataframe tbody tr th {\n",
       "        vertical-align: top;\n",
       "    }\n",
       "\n",
       "    .dataframe thead th {\n",
       "        text-align: right;\n",
       "    }\n",
       "</style>\n",
       "<table border=\"1\" class=\"dataframe\">\n",
       "  <thead>\n",
       "    <tr style=\"text-align: right;\">\n",
       "      <th></th>\n",
       "      <th>count</th>\n",
       "      <th>mean</th>\n",
       "      <th>std</th>\n",
       "      <th>min</th>\n",
       "      <th>25%</th>\n",
       "      <th>50%</th>\n",
       "      <th>75%</th>\n",
       "      <th>max</th>\n",
       "    </tr>\n",
       "  </thead>\n",
       "  <tbody>\n",
       "    <tr>\n",
       "      <th>age</th>\n",
       "      <td>4521.0</td>\n",
       "      <td>41.170095</td>\n",
       "      <td>10.576211</td>\n",
       "      <td>19.0</td>\n",
       "      <td>33.0</td>\n",
       "      <td>39.0</td>\n",
       "      <td>49.0</td>\n",
       "      <td>87.0</td>\n",
       "    </tr>\n",
       "    <tr>\n",
       "      <th>balance</th>\n",
       "      <td>4521.0</td>\n",
       "      <td>1422.657819</td>\n",
       "      <td>3009.638142</td>\n",
       "      <td>-3313.0</td>\n",
       "      <td>69.0</td>\n",
       "      <td>444.0</td>\n",
       "      <td>1480.0</td>\n",
       "      <td>71188.0</td>\n",
       "    </tr>\n",
       "    <tr>\n",
       "      <th>day</th>\n",
       "      <td>4521.0</td>\n",
       "      <td>15.915284</td>\n",
       "      <td>8.247667</td>\n",
       "      <td>1.0</td>\n",
       "      <td>9.0</td>\n",
       "      <td>16.0</td>\n",
       "      <td>21.0</td>\n",
       "      <td>31.0</td>\n",
       "    </tr>\n",
       "    <tr>\n",
       "      <th>duration</th>\n",
       "      <td>4521.0</td>\n",
       "      <td>263.961292</td>\n",
       "      <td>259.856633</td>\n",
       "      <td>4.0</td>\n",
       "      <td>104.0</td>\n",
       "      <td>185.0</td>\n",
       "      <td>329.0</td>\n",
       "      <td>3025.0</td>\n",
       "    </tr>\n",
       "    <tr>\n",
       "      <th>campaign</th>\n",
       "      <td>4521.0</td>\n",
       "      <td>2.793630</td>\n",
       "      <td>3.109807</td>\n",
       "      <td>1.0</td>\n",
       "      <td>1.0</td>\n",
       "      <td>2.0</td>\n",
       "      <td>3.0</td>\n",
       "      <td>50.0</td>\n",
       "    </tr>\n",
       "    <tr>\n",
       "      <th>pdays</th>\n",
       "      <td>4521.0</td>\n",
       "      <td>39.766645</td>\n",
       "      <td>100.121124</td>\n",
       "      <td>-1.0</td>\n",
       "      <td>-1.0</td>\n",
       "      <td>-1.0</td>\n",
       "      <td>-1.0</td>\n",
       "      <td>871.0</td>\n",
       "    </tr>\n",
       "    <tr>\n",
       "      <th>previous</th>\n",
       "      <td>4521.0</td>\n",
       "      <td>0.542579</td>\n",
       "      <td>1.693562</td>\n",
       "      <td>0.0</td>\n",
       "      <td>0.0</td>\n",
       "      <td>0.0</td>\n",
       "      <td>0.0</td>\n",
       "      <td>25.0</td>\n",
       "    </tr>\n",
       "  </tbody>\n",
       "</table>\n",
       "</div>"
      ],
      "text/plain": [
       "           count         mean          std     min    25%    50%     75%  \\\n",
       "age       4521.0    41.170095    10.576211    19.0   33.0   39.0    49.0   \n",
       "balance   4521.0  1422.657819  3009.638142 -3313.0   69.0  444.0  1480.0   \n",
       "day       4521.0    15.915284     8.247667     1.0    9.0   16.0    21.0   \n",
       "duration  4521.0   263.961292   259.856633     4.0  104.0  185.0   329.0   \n",
       "campaign  4521.0     2.793630     3.109807     1.0    1.0    2.0     3.0   \n",
       "pdays     4521.0    39.766645   100.121124    -1.0   -1.0   -1.0    -1.0   \n",
       "previous  4521.0     0.542579     1.693562     0.0    0.0    0.0     0.0   \n",
       "\n",
       "              max  \n",
       "age          87.0  \n",
       "balance   71188.0  \n",
       "day          31.0  \n",
       "duration   3025.0  \n",
       "campaign     50.0  \n",
       "pdays       871.0  \n",
       "previous     25.0  "
      ]
     },
     "execution_count": 18,
     "metadata": {},
     "output_type": "execute_result"
    }
   ],
   "source": [
    "data.describe().T"
   ]
  },
  {
   "cell_type": "code",
   "execution_count": 19,
   "id": "35075173",
   "metadata": {
    "execution": {
     "iopub.execute_input": "2023-02-03T18:05:44.804043Z",
     "iopub.status.busy": "2023-02-03T18:05:44.803185Z",
     "iopub.status.idle": "2023-02-03T18:05:44.813743Z",
     "shell.execute_reply": "2023-02-03T18:05:44.812372Z"
    },
    "papermill": {
     "duration": 0.038494,
     "end_time": "2023-02-03T18:05:44.816277",
     "exception": false,
     "start_time": "2023-02-03T18:05:44.777783",
     "status": "completed"
    },
    "tags": []
   },
   "outputs": [
    {
     "data": {
      "text/plain": [
       "management       969\n",
       "blue-collar      946\n",
       "technician       768\n",
       "admin.           478\n",
       "services         417\n",
       "retired          230\n",
       "self-employed    183\n",
       "entrepreneur     168\n",
       "unemployed       128\n",
       "housemaid        112\n",
       "student           84\n",
       "unknown           38\n",
       "Name: job, dtype: int64"
      ]
     },
     "execution_count": 19,
     "metadata": {},
     "output_type": "execute_result"
    }
   ],
   "source": [
    "data.job.value_counts()"
   ]
  },
  {
   "cell_type": "code",
   "execution_count": 20,
   "id": "81f53008",
   "metadata": {
    "execution": {
     "iopub.execute_input": "2023-02-03T18:05:44.878261Z",
     "iopub.status.busy": "2023-02-03T18:05:44.877739Z",
     "iopub.status.idle": "2023-02-03T18:05:44.889943Z",
     "shell.execute_reply": "2023-02-03T18:05:44.888436Z"
    },
    "papermill": {
     "duration": 0.046299,
     "end_time": "2023-02-03T18:05:44.893512",
     "exception": false,
     "start_time": "2023-02-03T18:05:44.847213",
     "status": "completed"
    },
    "tags": []
   },
   "outputs": [
    {
     "data": {
      "text/plain": [
       "married     2797\n",
       "single      1196\n",
       "divorced     528\n",
       "Name: marital, dtype: int64"
      ]
     },
     "execution_count": 20,
     "metadata": {},
     "output_type": "execute_result"
    }
   ],
   "source": [
    "data.marital.value_counts()"
   ]
  },
  {
   "cell_type": "code",
   "execution_count": 21,
   "id": "d41f05c4",
   "metadata": {
    "execution": {
     "iopub.execute_input": "2023-02-03T18:05:44.951188Z",
     "iopub.status.busy": "2023-02-03T18:05:44.950723Z",
     "iopub.status.idle": "2023-02-03T18:05:44.960309Z",
     "shell.execute_reply": "2023-02-03T18:05:44.959167Z"
    },
    "papermill": {
     "duration": 0.043179,
     "end_time": "2023-02-03T18:05:44.962700",
     "exception": false,
     "start_time": "2023-02-03T18:05:44.919521",
     "status": "completed"
    },
    "tags": []
   },
   "outputs": [
    {
     "data": {
      "text/plain": [
       "secondary    2306\n",
       "tertiary     1350\n",
       "primary       678\n",
       "unknown       187\n",
       "Name: education, dtype: int64"
      ]
     },
     "execution_count": 21,
     "metadata": {},
     "output_type": "execute_result"
    }
   ],
   "source": [
    "data.education.value_counts()"
   ]
  },
  {
   "cell_type": "code",
   "execution_count": 22,
   "id": "2ea4ef63",
   "metadata": {
    "execution": {
     "iopub.execute_input": "2023-02-03T18:05:45.013176Z",
     "iopub.status.busy": "2023-02-03T18:05:45.012710Z",
     "iopub.status.idle": "2023-02-03T18:05:45.021711Z",
     "shell.execute_reply": "2023-02-03T18:05:45.020630Z"
    },
    "papermill": {
     "duration": 0.037168,
     "end_time": "2023-02-03T18:05:45.024105",
     "exception": false,
     "start_time": "2023-02-03T18:05:44.986937",
     "status": "completed"
    },
    "tags": []
   },
   "outputs": [
    {
     "data": {
      "text/plain": [
       "no     4445\n",
       "yes      76\n",
       "Name: default, dtype: int64"
      ]
     },
     "execution_count": 22,
     "metadata": {},
     "output_type": "execute_result"
    }
   ],
   "source": [
    "data.default.value_counts()"
   ]
  },
  {
   "cell_type": "code",
   "execution_count": 23,
   "id": "50ce2a19",
   "metadata": {
    "execution": {
     "iopub.execute_input": "2023-02-03T18:05:45.075933Z",
     "iopub.status.busy": "2023-02-03T18:05:45.074705Z",
     "iopub.status.idle": "2023-02-03T18:05:45.084391Z",
     "shell.execute_reply": "2023-02-03T18:05:45.083302Z"
    },
    "papermill": {
     "duration": 0.037518,
     "end_time": "2023-02-03T18:05:45.086561",
     "exception": false,
     "start_time": "2023-02-03T18:05:45.049043",
     "status": "completed"
    },
    "tags": []
   },
   "outputs": [
    {
     "data": {
      "text/plain": [
       "yes    2559\n",
       "no     1962\n",
       "Name: housing, dtype: int64"
      ]
     },
     "execution_count": 23,
     "metadata": {},
     "output_type": "execute_result"
    }
   ],
   "source": [
    "data.housing.value_counts()"
   ]
  },
  {
   "cell_type": "code",
   "execution_count": 24,
   "id": "ec42c20c",
   "metadata": {
    "execution": {
     "iopub.execute_input": "2023-02-03T18:05:45.137554Z",
     "iopub.status.busy": "2023-02-03T18:05:45.136679Z",
     "iopub.status.idle": "2023-02-03T18:05:45.145924Z",
     "shell.execute_reply": "2023-02-03T18:05:45.144801Z"
    },
    "papermill": {
     "duration": 0.037739,
     "end_time": "2023-02-03T18:05:45.148559",
     "exception": false,
     "start_time": "2023-02-03T18:05:45.110820",
     "status": "completed"
    },
    "tags": []
   },
   "outputs": [
    {
     "data": {
      "text/plain": [
       "no     3830\n",
       "yes     691\n",
       "Name: loan, dtype: int64"
      ]
     },
     "execution_count": 24,
     "metadata": {},
     "output_type": "execute_result"
    }
   ],
   "source": [
    "data.loan.value_counts()"
   ]
  },
  {
   "cell_type": "code",
   "execution_count": 25,
   "id": "29307ed6",
   "metadata": {
    "execution": {
     "iopub.execute_input": "2023-02-03T18:05:45.199941Z",
     "iopub.status.busy": "2023-02-03T18:05:45.198808Z",
     "iopub.status.idle": "2023-02-03T18:05:45.208443Z",
     "shell.execute_reply": "2023-02-03T18:05:45.207226Z"
    },
    "papermill": {
     "duration": 0.037767,
     "end_time": "2023-02-03T18:05:45.210889",
     "exception": false,
     "start_time": "2023-02-03T18:05:45.173122",
     "status": "completed"
    },
    "tags": []
   },
   "outputs": [
    {
     "data": {
      "text/plain": [
       "cellular     2896\n",
       "unknown      1324\n",
       "telephone     301\n",
       "Name: contact, dtype: int64"
      ]
     },
     "execution_count": 25,
     "metadata": {},
     "output_type": "execute_result"
    }
   ],
   "source": [
    "data.contact.value_counts()"
   ]
  },
  {
   "cell_type": "code",
   "execution_count": 26,
   "id": "290845e7",
   "metadata": {
    "execution": {
     "iopub.execute_input": "2023-02-03T18:05:45.262392Z",
     "iopub.status.busy": "2023-02-03T18:05:45.261904Z",
     "iopub.status.idle": "2023-02-03T18:05:45.271709Z",
     "shell.execute_reply": "2023-02-03T18:05:45.270505Z"
    },
    "papermill": {
     "duration": 0.038863,
     "end_time": "2023-02-03T18:05:45.274466",
     "exception": false,
     "start_time": "2023-02-03T18:05:45.235603",
     "status": "completed"
    },
    "tags": []
   },
   "outputs": [
    {
     "data": {
      "text/plain": [
       "unknown    3705\n",
       "failure     490\n",
       "other       197\n",
       "success     129\n",
       "Name: poutcome, dtype: int64"
      ]
     },
     "execution_count": 26,
     "metadata": {},
     "output_type": "execute_result"
    }
   ],
   "source": [
    "data.poutcome.value_counts()"
   ]
  },
  {
   "cell_type": "code",
   "execution_count": 27,
   "id": "3a05b0cc",
   "metadata": {
    "execution": {
     "iopub.execute_input": "2023-02-03T18:05:45.326830Z",
     "iopub.status.busy": "2023-02-03T18:05:45.325993Z",
     "iopub.status.idle": "2023-02-03T18:05:45.336353Z",
     "shell.execute_reply": "2023-02-03T18:05:45.335110Z"
    },
    "papermill": {
     "duration": 0.039336,
     "end_time": "2023-02-03T18:05:45.338778",
     "exception": false,
     "start_time": "2023-02-03T18:05:45.299442",
     "status": "completed"
    },
    "tags": []
   },
   "outputs": [
    {
     "data": {
      "text/plain": [
       "no     4000\n",
       "yes     521\n",
       "Name: y, dtype: int64"
      ]
     },
     "execution_count": 27,
     "metadata": {},
     "output_type": "execute_result"
    }
   ],
   "source": [
    "data.y.value_counts()"
   ]
  },
  {
   "cell_type": "code",
   "execution_count": 28,
   "id": "a4b43663",
   "metadata": {
    "execution": {
     "iopub.execute_input": "2023-02-03T18:05:45.391397Z",
     "iopub.status.busy": "2023-02-03T18:05:45.390093Z",
     "iopub.status.idle": "2023-02-03T18:05:45.774111Z",
     "shell.execute_reply": "2023-02-03T18:05:45.772805Z"
    },
    "papermill": {
     "duration": 0.413028,
     "end_time": "2023-02-03T18:05:45.776731",
     "exception": false,
     "start_time": "2023-02-03T18:05:45.363703",
     "status": "completed"
    },
    "tags": []
   },
   "outputs": [
    {
     "data": {
      "text/plain": [
       "<AxesSubplot:xlabel='y', ylabel='count'>"
      ]
     },
     "execution_count": 28,
     "metadata": {},
     "output_type": "execute_result"
    },
    {
     "data": {
      "image/png": "[encoded data removed]",
      "text/plain": [
       "<Figure size 640x480 with 1 Axes>"
      ]
     },
     "metadata": {},
     "output_type": "display_data"
    }
   ],
   "source": [
    "sns.set_style('whitegrid')\n",
    "sns.countplot(x='y',hue='job',data=data,palette='RdBu_r')"
   ]
  },
  {
   "cell_type": "code",
   "execution_count": 29,
   "id": "8162807d",
   "metadata": {
    "execution": {
     "iopub.execute_input": "2023-02-03T18:05:45.829437Z",
     "iopub.status.busy": "2023-02-03T18:05:45.828753Z",
     "iopub.status.idle": "2023-02-03T18:05:46.060469Z",
     "shell.execute_reply": "2023-02-03T18:05:46.059186Z"
    },
    "papermill": {
     "duration": 0.261372,
     "end_time": "2023-02-03T18:05:46.063268",
     "exception": false,
     "start_time": "2023-02-03T18:05:45.801896",
     "status": "completed"
    },
    "tags": []
   },
   "outputs": [
    {
     "data": {
      "text/plain": [
       "<AxesSubplot:xlabel='y', ylabel='count'>"
      ]
     },
     "execution_count": 29,
     "metadata": {},
     "output_type": "execute_result"
    },
    {
     "data": {
      "image/png": "[encoded data removed]",
      "text/plain": [
       "<Figure size 640x480 with 1 Axes>"
      ]
     },
     "metadata": {},
     "output_type": "display_data"
    }
   ],
   "source": [
    "sns.set_style('whitegrid')\n",
    "sns.countplot(x='y',hue='marital',data=data,palette='RdBu_r')"
   ]
  },
  {
   "cell_type": "code",
   "execution_count": 30,
   "id": "671a9ab4",
   "metadata": {
    "execution": {
     "iopub.execute_input": "2023-02-03T18:05:46.117301Z",
     "iopub.status.busy": "2023-02-03T18:05:46.116185Z",
     "iopub.status.idle": "2023-02-03T18:05:46.430756Z",
     "shell.execute_reply": "2023-02-03T18:05:46.429505Z"
    },
    "papermill": {
     "duration": 0.344496,
     "end_time": "2023-02-03T18:05:46.433480",
     "exception": false,
     "start_time": "2023-02-03T18:05:46.088984",
     "status": "completed"
    },
    "tags": []
   },
   "outputs": [
    {
     "data": {
      "text/plain": [
       "<AxesSubplot:>"
      ]
     },
     "execution_count": 30,
     "metadata": {},
     "output_type": "execute_result"
    },
    {
     "data": {
      "image/png": "[encoded data removed]",
      "text/plain": [
       "<Figure size 640x480 with 1 Axes>"
      ]
     },
     "metadata": {},
     "output_type": "display_data"
    }
   ],
   "source": [
    "data['age'].hist(bins=30)"
   ]
  },
  {
   "cell_type": "code",
   "execution_count": 31,
   "id": "39880502",
   "metadata": {
    "execution": {
     "iopub.execute_input": "2023-02-03T18:05:46.488453Z",
     "iopub.status.busy": "2023-02-03T18:05:46.487880Z",
     "iopub.status.idle": "2023-02-03T18:05:46.797776Z",
     "shell.execute_reply": "2023-02-03T18:05:46.796277Z"
    },
    "papermill": {
     "duration": 0.340911,
     "end_time": "2023-02-03T18:05:46.800644",
     "exception": false,
     "start_time": "2023-02-03T18:05:46.459733",
     "status": "completed"
    },
    "tags": []
   },
   "outputs": [
    {
     "data": {
      "text/plain": [
       "<AxesSubplot:>"
      ]
     },
     "execution_count": 31,
     "metadata": {},
     "output_type": "execute_result"
    },
    {
     "data": {
      "image/png": "[encoded data removed]",
      "text/plain": [
       "<Figure size 640x480 with 1 Axes>"
      ]
     },
     "metadata": {},
     "output_type": "display_data"
    }
   ],
   "source": [
    "data['balance'].hist(bins=30)"
   ]
  },
  {
   "cell_type": "code",
   "execution_count": 32,
   "id": "16417a96",
   "metadata": {
    "execution": {
     "iopub.execute_input": "2023-02-03T18:05:46.857507Z",
     "iopub.status.busy": "2023-02-03T18:05:46.856857Z",
     "iopub.status.idle": "2023-02-03T18:05:47.185369Z",
     "shell.execute_reply": "2023-02-03T18:05:47.184149Z"
    },
    "papermill": {
     "duration": 0.36082,
     "end_time": "2023-02-03T18:05:47.187999",
     "exception": false,
     "start_time": "2023-02-03T18:05:46.827179",
     "status": "completed"
    },
    "tags": []
   },
   "outputs": [
    {
     "data": {
      "text/plain": [
       "<AxesSubplot:>"
      ]
     },
     "execution_count": 32,
     "metadata": {},
     "output_type": "execute_result"
    },
    {
     "data": {
      "image/png": "[encoded data removed]",
      "text/plain": [
       "<Figure size 640x480 with 1 Axes>"
      ]
     },
     "metadata": {},
     "output_type": "display_data"
    }
   ],
   "source": [
    "data['day'].hist(bins=50)"
   ]
  },
  {
   "cell_type": "code",
   "execution_count": 33,
   "id": "2537b8b5",
   "metadata": {
    "execution": {
     "iopub.execute_input": "2023-02-03T18:05:47.243136Z",
     "iopub.status.busy": "2023-02-03T18:05:47.242672Z",
     "iopub.status.idle": "2023-02-03T18:05:47.567106Z",
     "shell.execute_reply": "2023-02-03T18:05:47.566200Z"
    },
    "papermill": {
     "duration": 0.354924,
     "end_time": "2023-02-03T18:05:47.569564",
     "exception": false,
     "start_time": "2023-02-03T18:05:47.214640",
     "status": "completed"
    },
    "tags": []
   },
   "outputs": [
    {
     "data": {
      "text/plain": [
       "<AxesSubplot:>"
      ]
     },
     "execution_count": 33,
     "metadata": {},
     "output_type": "execute_result"
    },
    {
     "data": {
      "image/png": "[encoded data removed]",
      "text/plain": [
       "<Figure size 640x480 with 1 Axes>"
      ]
     },
     "metadata": {},
     "output_type": "display_data"
    }
   ],
   "source": [
    "data['duration'].hist(bins=50)"
   ]
  },
  {
   "cell_type": "code",
   "execution_count": 34,
   "id": "de3ff45d",
   "metadata": {
    "execution": {
     "iopub.execute_input": "2023-02-03T18:05:47.626655Z",
     "iopub.status.busy": "2023-02-03T18:05:47.626144Z",
     "iopub.status.idle": "2023-02-03T18:05:47.946663Z",
     "shell.execute_reply": "2023-02-03T18:05:47.945449Z"
    },
    "papermill": {
     "duration": 0.352002,
     "end_time": "2023-02-03T18:05:47.949210",
     "exception": false,
     "start_time": "2023-02-03T18:05:47.597208",
     "status": "completed"
    },
    "tags": []
   },
   "outputs": [
    {
     "data": {
      "text/plain": [
       "<AxesSubplot:>"
      ]
     },
     "execution_count": 34,
     "metadata": {},
     "output_type": "execute_result"
    },
    {
     "data": {
      "image/png": "[encoded data removed]",
      "text/plain": [
       "<Figure size 640x480 with 1 Axes>"
      ]
     },
     "metadata": {},
     "output_type": "display_data"
    }
   ],
   "source": [
    "data['campaign'].hist(bins=50)"
   ]
  },
  {
   "cell_type": "code",
   "execution_count": 35,
   "id": "72bbac4e",
   "metadata": {
    "execution": {
     "iopub.execute_input": "2023-02-03T18:05:48.006196Z",
     "iopub.status.busy": "2023-02-03T18:05:48.005728Z",
     "iopub.status.idle": "2023-02-03T18:05:48.337047Z",
     "shell.execute_reply": "2023-02-03T18:05:48.335722Z"
    },
    "papermill": {
     "duration": 0.36396,
     "end_time": "2023-02-03T18:05:48.340199",
     "exception": false,
     "start_time": "2023-02-03T18:05:47.976239",
     "status": "completed"
    },
    "tags": []
   },
   "outputs": [
    {
     "data": {
      "text/plain": [
       "<AxesSubplot:>"
      ]
     },
     "execution_count": 35,
     "metadata": {},
     "output_type": "execute_result"
    },
    {
     "data": {
      "image/png": "[encoded data removed]",
      "text/plain": [
       "<Figure size 640x480 with 1 Axes>"
      ]
     },
     "metadata": {},
     "output_type": "display_data"
    }
   ],
   "source": [
    "data['pdays'].hist(bins=50)"
   ]
  },
  {
   "cell_type": "code",
   "execution_count": 36,
   "id": "3d9b5bc8",
   "metadata": {
    "execution": {
     "iopub.execute_input": "2023-02-03T18:05:48.401730Z",
     "iopub.status.busy": "2023-02-03T18:05:48.400741Z",
     "iopub.status.idle": "2023-02-03T18:05:48.814606Z",
     "shell.execute_reply": "2023-02-03T18:05:48.813329Z"
    },
    "papermill": {
     "duration": 0.446772,
     "end_time": "2023-02-03T18:05:48.817328",
     "exception": false,
     "start_time": "2023-02-03T18:05:48.370556",
     "status": "completed"
    },
    "tags": []
   },
   "outputs": [
    {
     "data": {
      "text/plain": [
       "<AxesSubplot:xlabel='job', ylabel='count'>"
      ]
     },
     "execution_count": 36,
     "metadata": {},
     "output_type": "execute_result"
    },
    {
     "data": {
      "image/png": "[encoded data removed]",
      "text/plain": [
       "<Figure size 2000x1000 with 1 Axes>"
      ]
     },
     "metadata": {},
     "output_type": "display_data"
    }
   ],
   "source": [
    "plt.figure(figsize=(20,10))\n",
    "sns.countplot(x='job',data=data,hue='y')"
   ]
  },
  {
   "cell_type": "code",
   "execution_count": 37,
   "id": "dd5b00f4",
   "metadata": {
    "execution": {
     "iopub.execute_input": "2023-02-03T18:05:48.876979Z",
     "iopub.status.busy": "2023-02-03T18:05:48.875771Z",
     "iopub.status.idle": "2023-02-03T18:05:49.120654Z",
     "shell.execute_reply": "2023-02-03T18:05:49.119364Z"
    },
    "papermill": {
     "duration": 0.278104,
     "end_time": "2023-02-03T18:05:49.123840",
     "exception": false,
     "start_time": "2023-02-03T18:05:48.845736",
     "status": "completed"
    },
    "tags": []
   },
   "outputs": [
    {
     "data": {
      "text/plain": [
       "<AxesSubplot:xlabel='marital', ylabel='count'>"
      ]
     },
     "execution_count": 37,
     "metadata": {},
     "output_type": "execute_result"
    },
    {
     "data": {
      "image/png": "[encoded data removed]",
      "text/plain": [
       "<Figure size 1000x500 with 1 Axes>"
      ]
     },
     "metadata": {},
     "output_type": "display_data"
    }
   ],
   "source": [
    "plt.figure(figsize=(10,5))\n",
    "sns.countplot(x='marital',data=data,hue='y')"
   ]
  },
  {
   "cell_type": "code",
   "execution_count": 38,
   "id": "45123e10",
   "metadata": {
    "execution": {
     "iopub.execute_input": "2023-02-03T18:05:49.185661Z",
     "iopub.status.busy": "2023-02-03T18:05:49.184864Z",
     "iopub.status.idle": "2023-02-03T18:05:49.464362Z",
     "shell.execute_reply": "2023-02-03T18:05:49.463079Z"
    },
    "papermill": {
     "duration": 0.313715,
     "end_time": "2023-02-03T18:05:49.467551",
     "exception": false,
     "start_time": "2023-02-03T18:05:49.153836",
     "status": "completed"
    },
    "tags": []
   },
   "outputs": [
    {
     "data": {
      "text/plain": [
       "<AxesSubplot:xlabel='education', ylabel='count'>"
      ]
     },
     "execution_count": 38,
     "metadata": {},
     "output_type": "execute_result"
    },
    {
     "data": {
      "image/png": "[encoded data removed]",
      "text/plain": [
       "<Figure size 1300x700 with 1 Axes>"
      ]
     },
     "metadata": {},
     "output_type": "display_data"
    }
   ],
   "source": [
    "plt.figure(figsize=(13,7))\n",
    "sns.countplot(x='education',data=data,hue='y')"
   ]
  },
  {
   "cell_type": "code",
   "execution_count": 39,
   "id": "db187329",
   "metadata": {
    "execution": {
     "iopub.execute_input": "2023-02-03T18:05:49.527043Z",
     "iopub.status.busy": "2023-02-03T18:05:49.526576Z",
     "iopub.status.idle": "2023-02-03T18:05:49.764117Z",
     "shell.execute_reply": "2023-02-03T18:05:49.762824Z"
    },
    "papermill": {
     "duration": 0.270349,
     "end_time": "2023-02-03T18:05:49.766783",
     "exception": false,
     "start_time": "2023-02-03T18:05:49.496434",
     "status": "completed"
    },
    "tags": []
   },
   "outputs": [
    {
     "data": {
      "text/plain": [
       "<AxesSubplot:xlabel='loan', ylabel='count'>"
      ]
     },
     "execution_count": 39,
     "metadata": {},
     "output_type": "execute_result"
    },
    {
     "data": {
      "image/png": "[encoded data removed]",
      "text/plain": [
       "<Figure size 1000x500 with 1 Axes>"
      ]
     },
     "metadata": {},
     "output_type": "display_data"
    }
   ],
   "source": [
    "plt.figure(figsize=(10,5))\n",
    "sns.countplot(x='loan',data=data,hue='y')"
   ]
  },
  {
   "cell_type": "markdown",
   "id": "78290a38",
   "metadata": {
    "papermill": {
     "duration": 0.028609,
     "end_time": "2023-02-03T18:05:49.824617",
     "exception": false,
     "start_time": "2023-02-03T18:05:49.796008",
     "status": "completed"
    },
    "tags": []
   },
   "source": [
    "**Feature Engineering and Preprocessing**"
   ]
  },
  {
   "cell_type": "code",
   "execution_count": 40,
   "id": "81d7c339",
   "metadata": {
    "execution": {
     "iopub.execute_input": "2023-02-03T18:05:49.885268Z",
     "iopub.status.busy": "2023-02-03T18:05:49.884759Z",
     "iopub.status.idle": "2023-02-03T18:05:50.365839Z",
     "shell.execute_reply": "2023-02-03T18:05:50.364578Z"
    },
    "papermill": {
     "duration": 0.514609,
     "end_time": "2023-02-03T18:05:50.368668",
     "exception": false,
     "start_time": "2023-02-03T18:05:49.854059",
     "status": "completed"
    },
    "tags": []
   },
   "outputs": [],
   "source": [
    "from sklearn.impute import SimpleImputer\n",
    "from sklearn.preprocessing import OrdinalEncoder\n",
    "from sklearn.preprocessing import OneHotEncoder\n",
    "from sklearn.compose import ColumnTransformer\n",
    "from sklearn.preprocessing import StandardScaler"
   ]
  },
  {
   "cell_type": "code",
   "execution_count": 41,
   "id": "31fb3b26",
   "metadata": {
    "execution": {
     "iopub.execute_input": "2023-02-03T18:05:50.430366Z",
     "iopub.status.busy": "2023-02-03T18:05:50.429226Z",
     "iopub.status.idle": "2023-02-03T18:05:50.436908Z",
     "shell.execute_reply": "2023-02-03T18:05:50.436004Z"
    },
    "papermill": {
     "duration": 0.041568,
     "end_time": "2023-02-03T18:05:50.439429",
     "exception": false,
     "start_time": "2023-02-03T18:05:50.397861",
     "status": "completed"
    },
    "tags": []
   },
   "outputs": [],
   "source": [
    "# seprate the feature and label\n",
    "X = data.drop(\"y\",axis=1)\n",
    "y = data['y'].copy()"
   ]
  },
  {
   "cell_type": "code",
   "execution_count": 42,
   "id": "5c8765aa",
   "metadata": {
    "execution": {
     "iopub.execute_input": "2023-02-03T18:05:50.499630Z",
     "iopub.status.busy": "2023-02-03T18:05:50.499171Z",
     "iopub.status.idle": "2023-02-03T18:05:50.505042Z",
     "shell.execute_reply": "2023-02-03T18:05:50.503843Z"
    },
    "papermill": {
     "duration": 0.040419,
     "end_time": "2023-02-03T18:05:50.509099",
     "exception": false,
     "start_time": "2023-02-03T18:05:50.468680",
     "status": "completed"
    },
    "tags": []
   },
   "outputs": [
    {
     "name": "stdout",
     "output_type": "stream",
     "text": [
      "(4521, 16)\n",
      "(4521,)\n"
     ]
    }
   ],
   "source": [
    "print(X.shape)\n",
    "print(y.shape)"
   ]
  },
  {
   "cell_type": "code",
   "execution_count": 43,
   "id": "632e0392",
   "metadata": {
    "execution": {
     "iopub.execute_input": "2023-02-03T18:05:50.571408Z",
     "iopub.status.busy": "2023-02-03T18:05:50.570930Z",
     "iopub.status.idle": "2023-02-03T18:05:50.579265Z",
     "shell.execute_reply": "2023-02-03T18:05:50.578106Z"
    },
    "papermill": {
     "duration": 0.042538,
     "end_time": "2023-02-03T18:05:50.581718",
     "exception": false,
     "start_time": "2023-02-03T18:05:50.539180",
     "status": "completed"
    },
    "tags": []
   },
   "outputs": [
    {
     "data": {
      "text/plain": [
       "array(['no', 'yes'], dtype=object)"
      ]
     },
     "execution_count": 43,
     "metadata": {},
     "output_type": "execute_result"
    }
   ],
   "source": [
    "y.unique()"
   ]
  },
  {
   "cell_type": "code",
   "execution_count": 44,
   "id": "e3e4acc3",
   "metadata": {
    "execution": {
     "iopub.execute_input": "2023-02-03T18:05:50.643149Z",
     "iopub.status.busy": "2023-02-03T18:05:50.642706Z",
     "iopub.status.idle": "2023-02-03T18:05:50.651102Z",
     "shell.execute_reply": "2023-02-03T18:05:50.650123Z"
    },
    "papermill": {
     "duration": 0.041693,
     "end_time": "2023-02-03T18:05:50.653296",
     "exception": false,
     "start_time": "2023-02-03T18:05:50.611603",
     "status": "completed"
    },
    "tags": []
   },
   "outputs": [],
   "source": [
    "# replacing yes and no with 1 and 0 in y.\n",
    "y = y.replace({\"yes\":1, \"no\":0})"
   ]
  },
  {
   "cell_type": "code",
   "execution_count": 45,
   "id": "231459f6",
   "metadata": {
    "execution": {
     "iopub.execute_input": "2023-02-03T18:05:50.714146Z",
     "iopub.status.busy": "2023-02-03T18:05:50.713294Z",
     "iopub.status.idle": "2023-02-03T18:05:50.725419Z",
     "shell.execute_reply": "2023-02-03T18:05:50.724259Z"
    },
    "papermill": {
     "duration": 0.045274,
     "end_time": "2023-02-03T18:05:50.727749",
     "exception": false,
     "start_time": "2023-02-03T18:05:50.682475",
     "status": "completed"
    },
    "tags": []
   },
   "outputs": [
    {
     "data": {
      "text/plain": [
       "age          0\n",
       "job          0\n",
       "marital      0\n",
       "education    0\n",
       "default      0\n",
       "balance      0\n",
       "housing      0\n",
       "loan         0\n",
       "contact      0\n",
       "day          0\n",
       "month        0\n",
       "duration     0\n",
       "campaign     0\n",
       "pdays        0\n",
       "previous     0\n",
       "poutcome     0\n",
       "dtype: int64"
      ]
     },
     "execution_count": 45,
     "metadata": {},
     "output_type": "execute_result"
    }
   ],
   "source": [
    "X.isnull().sum()"
   ]
  },
  {
   "cell_type": "markdown",
   "id": "2558532a",
   "metadata": {
    "papermill": {
     "duration": 0.02871,
     "end_time": "2023-02-03T18:05:50.786588",
     "exception": false,
     "start_time": "2023-02-03T18:05:50.757878",
     "status": "completed"
    },
    "tags": []
   },
   "source": [
    "There is no null value present in the data so we do not have to do imputation."
   ]
  },
  {
   "cell_type": "code",
   "execution_count": 46,
   "id": "fbe05f00",
   "metadata": {
    "execution": {
     "iopub.execute_input": "2023-02-03T18:05:50.846905Z",
     "iopub.status.busy": "2023-02-03T18:05:50.846126Z",
     "iopub.status.idle": "2023-02-03T18:05:50.853795Z",
     "shell.execute_reply": "2023-02-03T18:05:50.852603Z"
    },
    "papermill": {
     "duration": 0.040909,
     "end_time": "2023-02-03T18:05:50.856641",
     "exception": false,
     "start_time": "2023-02-03T18:05:50.815732",
     "status": "completed"
    },
    "tags": []
   },
   "outputs": [],
   "source": [
    "education = [ 'tertiary', 'secondary','primary', 'unknown']\n",
    "\n",
    "\n",
    "transformer = ColumnTransformer(transformers=[\n",
    "    ('tnf1',StandardScaler(),['age','balance','day','duration','campaign','pdays','previous']),\n",
    "    ('tnf2',OrdinalEncoder(categories=[education]),['education']),\n",
    "    ('tnf3',OneHotEncoder(),['job','marital','default','housing','loan','contact','month','poutcome'])\n",
    "], remainder='passthrough')"
   ]
  },
  {
   "cell_type": "code",
   "execution_count": 47,
   "id": "045115fb",
   "metadata": {
    "execution": {
     "iopub.execute_input": "2023-02-03T18:05:50.917502Z",
     "iopub.status.busy": "2023-02-03T18:05:50.917001Z",
     "iopub.status.idle": "2023-02-03T18:05:50.922667Z",
     "shell.execute_reply": "2023-02-03T18:05:50.921530Z"
    },
    "papermill": {
     "duration": 0.038759,
     "end_time": "2023-02-03T18:05:50.924961",
     "exception": false,
     "start_time": "2023-02-03T18:05:50.886202",
     "status": "completed"
    },
    "tags": []
   },
   "outputs": [],
   "source": [
    "def transform_data(data):\n",
    "    transform_features = np.array(transformer.fit_transform(data), dtype = np.str)\n",
    "    \n",
    "    return transform_features"
   ]
  },
  {
   "cell_type": "code",
   "execution_count": 48,
   "id": "d56f6ad5",
   "metadata": {
    "execution": {
     "iopub.execute_input": "2023-02-03T18:05:50.985424Z",
     "iopub.status.busy": "2023-02-03T18:05:50.984923Z",
     "iopub.status.idle": "2023-02-03T18:05:51.103358Z",
     "shell.execute_reply": "2023-02-03T18:05:51.101986Z"
    },
    "papermill": {
     "duration": 0.152368,
     "end_time": "2023-02-03T18:05:51.106597",
     "exception": false,
     "start_time": "2023-02-03T18:05:50.954229",
     "status": "completed"
    },
    "tags": []
   },
   "outputs": [
    {
     "name": "stderr",
     "output_type": "stream",
     "text": [
      "C:\\Users\\Sahil\\AppData\\Local\\Temp\\ipykernel_7328\\1683885994.py:2: DeprecationWarning: `np.str` is a deprecated alias for the builtin `str`. To silence this warning, use `str` by itself. Doing this will not modify any behavior and is safe. If you specifically wanted the numpy scalar type, use `np.str_` here.\n",
      "Deprecated in NumPy 1.20; for more details and guidance: https://numpy.org/devdocs/release/1.20.0-notes.html#deprecations\n",
      "  transform_features = np.array(transformer.fit_transform(data), dtype = np.str)\n"
     ]
    }
   ],
   "source": [
    "transform_X = transform_data(X)"
   ]
  },
  {
   "cell_type": "code",
   "execution_count": 49,
   "id": "4eefa86e",
   "metadata": {
    "execution": {
     "iopub.execute_input": "2023-02-03T18:05:51.167404Z",
     "iopub.status.busy": "2023-02-03T18:05:51.166940Z",
     "iopub.status.idle": "2023-02-03T18:05:51.173914Z",
     "shell.execute_reply": "2023-02-03T18:05:51.172627Z"
    },
    "papermill": {
     "duration": 0.040583,
     "end_time": "2023-02-03T18:05:51.176593",
     "exception": false,
     "start_time": "2023-02-03T18:05:51.136010",
     "status": "completed"
    },
    "tags": []
   },
   "outputs": [
    {
     "data": {
      "text/plain": [
       "(4521, 48)"
      ]
     },
     "execution_count": 49,
     "metadata": {},
     "output_type": "execute_result"
    }
   ],
   "source": [
    "transform_X.shape"
   ]
  },
  {
   "cell_type": "code",
   "execution_count": 50,
   "id": "a3261186",
   "metadata": {
    "execution": {
     "iopub.execute_input": "2023-02-03T18:05:51.237740Z",
     "iopub.status.busy": "2023-02-03T18:05:51.237239Z",
     "iopub.status.idle": "2023-02-03T18:05:51.246614Z",
     "shell.execute_reply": "2023-02-03T18:05:51.245111Z"
    },
    "papermill": {
     "duration": 0.043032,
     "end_time": "2023-02-03T18:05:51.248984",
     "exception": false,
     "start_time": "2023-02-03T18:05:51.205952",
     "status": "completed"
    },
    "tags": []
   },
   "outputs": [
    {
     "data": {
      "text/plain": [
       "array([['-1.0562696524273598', '0.12107185807539463',\n",
       "        '0.3740520633526504', ..., '0.0', '0.0', '1.0'],\n",
       "       ['-0.7725828148853345', '1.1186442967405494',\n",
       "        '-0.5960264557452027', ..., '0.0', '0.0', '0.0'],\n",
       "       ['-0.5834582565239843', '-0.024144382996115262',\n",
       "        '0.010272618690955485', ..., '0.0', '0.0', '0.0'],\n",
       "       ...,\n",
       "       ['1.4969118854508683', '-0.37472363775685424',\n",
       "        '0.3740520633526504', ..., '0.0', '0.0', '1.0'],\n",
       "       ['-1.2453942107887102', '-0.09492483917055829',\n",
       "        '-1.202325530181361', ..., '1.0', '0.0', '0.0'],\n",
       "       ['0.26760225610209176', '-0.09525714178170591',\n",
       "        '-1.5661049748430558', ..., '1.0', '0.0', '0.0']], dtype='<U32')"
      ]
     },
     "execution_count": 50,
     "metadata": {},
     "output_type": "execute_result"
    }
   ],
   "source": [
    "transform_X"
   ]
  },
  {
   "cell_type": "code",
   "execution_count": 51,
   "id": "c09a812f",
   "metadata": {
    "execution": {
     "iopub.execute_input": "2023-02-03T18:05:51.311709Z",
     "iopub.status.busy": "2023-02-03T18:05:51.310755Z",
     "iopub.status.idle": "2023-02-03T18:05:51.410217Z",
     "shell.execute_reply": "2023-02-03T18:05:51.408795Z"
    },
    "papermill": {
     "duration": 0.134454,
     "end_time": "2023-02-03T18:05:51.413070",
     "exception": false,
     "start_time": "2023-02-03T18:05:51.278616",
     "status": "completed"
    },
    "tags": []
   },
   "outputs": [],
   "source": [
    "transform_X = np.array(transform_X,dtype=float)"
   ]
  },
  {
   "cell_type": "code",
   "execution_count": 52,
   "id": "0000d1ab",
   "metadata": {
    "execution": {
     "iopub.execute_input": "2023-02-03T18:05:51.476512Z",
     "iopub.status.busy": "2023-02-03T18:05:51.475742Z",
     "iopub.status.idle": "2023-02-03T18:05:51.482389Z",
     "shell.execute_reply": "2023-02-03T18:05:51.481407Z"
    },
    "papermill": {
     "duration": 0.040319,
     "end_time": "2023-02-03T18:05:51.484485",
     "exception": false,
     "start_time": "2023-02-03T18:05:51.444166",
     "status": "completed"
    },
    "tags": []
   },
   "outputs": [
    {
     "data": {
      "text/plain": [
       "array([[-1.05626965,  0.12107186,  0.37405206, ...,  0.        ,\n",
       "         0.        ,  1.        ],\n",
       "       [-0.77258281,  1.1186443 , -0.59602646, ...,  0.        ,\n",
       "         0.        ,  0.        ],\n",
       "       [-0.58345826, -0.02414438,  0.01027262, ...,  0.        ,\n",
       "         0.        ,  0.        ],\n",
       "       ...,\n",
       "       [ 1.49691189, -0.37472364,  0.37405206, ...,  0.        ,\n",
       "         0.        ,  1.        ],\n",
       "       [-1.24539421, -0.09492484, -1.20232553, ...,  1.        ,\n",
       "         0.        ,  0.        ],\n",
       "       [ 0.26760226, -0.09525714, -1.56610497, ...,  1.        ,\n",
       "         0.        ,  0.        ]])"
      ]
     },
     "execution_count": 52,
     "metadata": {},
     "output_type": "execute_result"
    }
   ],
   "source": [
    "transform_X"
   ]
  },
  {
   "cell_type": "code",
   "execution_count": 53,
   "id": "503f0b3e",
   "metadata": {
    "execution": {
     "iopub.execute_input": "2023-02-03T18:05:51.546650Z",
     "iopub.status.busy": "2023-02-03T18:05:51.546150Z",
     "iopub.status.idle": "2023-02-03T18:05:51.585821Z",
     "shell.execute_reply": "2023-02-03T18:05:51.584926Z"
    },
    "papermill": {
     "duration": 0.073951,
     "end_time": "2023-02-03T18:05:51.588180",
     "exception": false,
     "start_time": "2023-02-03T18:05:51.514229",
     "status": "completed"
    },
    "tags": []
   },
   "outputs": [
    {
     "data": {
      "text/html": [
       "<div>\n",
       "<style scoped>\n",
       "    .dataframe tbody tr th:only-of-type {\n",
       "        vertical-align: middle;\n",
       "    }\n",
       "\n",
       "    .dataframe tbody tr th {\n",
       "        vertical-align: top;\n",
       "    }\n",
       "\n",
       "    .dataframe thead th {\n",
       "        text-align: right;\n",
       "    }\n",
       "</style>\n",
       "<table border=\"1\" class=\"dataframe\">\n",
       "  <thead>\n",
       "    <tr style=\"text-align: right;\">\n",
       "      <th></th>\n",
       "      <th>0</th>\n",
       "      <th>1</th>\n",
       "      <th>2</th>\n",
       "      <th>3</th>\n",
       "      <th>4</th>\n",
       "      <th>5</th>\n",
       "      <th>6</th>\n",
       "      <th>7</th>\n",
       "      <th>8</th>\n",
       "      <th>9</th>\n",
       "      <th>...</th>\n",
       "      <th>38</th>\n",
       "      <th>39</th>\n",
       "      <th>40</th>\n",
       "      <th>41</th>\n",
       "      <th>42</th>\n",
       "      <th>43</th>\n",
       "      <th>44</th>\n",
       "      <th>45</th>\n",
       "      <th>46</th>\n",
       "      <th>47</th>\n",
       "    </tr>\n",
       "  </thead>\n",
       "  <tbody>\n",
       "    <tr>\n",
       "      <th>0</th>\n",
       "      <td>-1.056270</td>\n",
       "      <td>0.121072</td>\n",
       "      <td>0.374052</td>\n",
       "      <td>-0.711861</td>\n",
       "      <td>-0.576829</td>\n",
       "      <td>-0.407218</td>\n",
       "      <td>-0.320413</td>\n",
       "      <td>2.0</td>\n",
       "      <td>0.0</td>\n",
       "      <td>0.0</td>\n",
       "      <td>...</td>\n",
       "      <td>0.0</td>\n",
       "      <td>0.0</td>\n",
       "      <td>0.0</td>\n",
       "      <td>0.0</td>\n",
       "      <td>1.0</td>\n",
       "      <td>0.0</td>\n",
       "      <td>0.0</td>\n",
       "      <td>0.0</td>\n",
       "      <td>0.0</td>\n",
       "      <td>1.0</td>\n",
       "    </tr>\n",
       "    <tr>\n",
       "      <th>1</th>\n",
       "      <td>-0.772583</td>\n",
       "      <td>1.118644</td>\n",
       "      <td>-0.596026</td>\n",
       "      <td>-0.169194</td>\n",
       "      <td>-0.576829</td>\n",
       "      <td>2.989044</td>\n",
       "      <td>2.041734</td>\n",
       "      <td>1.0</td>\n",
       "      <td>0.0</td>\n",
       "      <td>0.0</td>\n",
       "      <td>...</td>\n",
       "      <td>0.0</td>\n",
       "      <td>0.0</td>\n",
       "      <td>1.0</td>\n",
       "      <td>0.0</td>\n",
       "      <td>0.0</td>\n",
       "      <td>0.0</td>\n",
       "      <td>1.0</td>\n",
       "      <td>0.0</td>\n",
       "      <td>0.0</td>\n",
       "      <td>0.0</td>\n",
       "    </tr>\n",
       "    <tr>\n",
       "      <th>2</th>\n",
       "      <td>-0.583458</td>\n",
       "      <td>-0.024144</td>\n",
       "      <td>0.010273</td>\n",
       "      <td>-0.303898</td>\n",
       "      <td>-0.576829</td>\n",
       "      <td>2.899143</td>\n",
       "      <td>0.270124</td>\n",
       "      <td>0.0</td>\n",
       "      <td>0.0</td>\n",
       "      <td>0.0</td>\n",
       "      <td>...</td>\n",
       "      <td>0.0</td>\n",
       "      <td>0.0</td>\n",
       "      <td>0.0</td>\n",
       "      <td>0.0</td>\n",
       "      <td>0.0</td>\n",
       "      <td>0.0</td>\n",
       "      <td>1.0</td>\n",
       "      <td>0.0</td>\n",
       "      <td>0.0</td>\n",
       "      <td>0.0</td>\n",
       "    </tr>\n",
       "    <tr>\n",
       "      <th>3</th>\n",
       "      <td>-1.056270</td>\n",
       "      <td>0.017726</td>\n",
       "      <td>-1.566105</td>\n",
       "      <td>-0.250017</td>\n",
       "      <td>0.387967</td>\n",
       "      <td>-0.407218</td>\n",
       "      <td>-0.320413</td>\n",
       "      <td>0.0</td>\n",
       "      <td>0.0</td>\n",
       "      <td>0.0</td>\n",
       "      <td>...</td>\n",
       "      <td>1.0</td>\n",
       "      <td>0.0</td>\n",
       "      <td>0.0</td>\n",
       "      <td>0.0</td>\n",
       "      <td>0.0</td>\n",
       "      <td>0.0</td>\n",
       "      <td>0.0</td>\n",
       "      <td>0.0</td>\n",
       "      <td>0.0</td>\n",
       "      <td>1.0</td>\n",
       "    </tr>\n",
       "    <tr>\n",
       "      <th>4</th>\n",
       "      <td>1.686036</td>\n",
       "      <td>-0.472753</td>\n",
       "      <td>-1.323585</td>\n",
       "      <td>-0.146102</td>\n",
       "      <td>-0.576829</td>\n",
       "      <td>-0.407218</td>\n",
       "      <td>-0.320413</td>\n",
       "      <td>1.0</td>\n",
       "      <td>0.0</td>\n",
       "      <td>1.0</td>\n",
       "      <td>...</td>\n",
       "      <td>0.0</td>\n",
       "      <td>0.0</td>\n",
       "      <td>1.0</td>\n",
       "      <td>0.0</td>\n",
       "      <td>0.0</td>\n",
       "      <td>0.0</td>\n",
       "      <td>0.0</td>\n",
       "      <td>0.0</td>\n",
       "      <td>0.0</td>\n",
       "      <td>1.0</td>\n",
       "    </tr>\n",
       "    <tr>\n",
       "      <th>...</th>\n",
       "      <td>...</td>\n",
       "      <td>...</td>\n",
       "      <td>...</td>\n",
       "      <td>...</td>\n",
       "      <td>...</td>\n",
       "      <td>...</td>\n",
       "      <td>...</td>\n",
       "      <td>...</td>\n",
       "      <td>...</td>\n",
       "      <td>...</td>\n",
       "      <td>...</td>\n",
       "      <td>...</td>\n",
       "      <td>...</td>\n",
       "      <td>...</td>\n",
       "      <td>...</td>\n",
       "      <td>...</td>\n",
       "      <td>...</td>\n",
       "      <td>...</td>\n",
       "      <td>...</td>\n",
       "      <td>...</td>\n",
       "      <td>...</td>\n",
       "    </tr>\n",
       "    <tr>\n",
       "      <th>4516</th>\n",
       "      <td>-0.772583</td>\n",
       "      <td>-0.583410</td>\n",
       "      <td>1.707910</td>\n",
       "      <td>0.250315</td>\n",
       "      <td>0.709566</td>\n",
       "      <td>-0.407218</td>\n",
       "      <td>-0.320413</td>\n",
       "      <td>1.0</td>\n",
       "      <td>0.0</td>\n",
       "      <td>0.0</td>\n",
       "      <td>...</td>\n",
       "      <td>0.0</td>\n",
       "      <td>0.0</td>\n",
       "      <td>0.0</td>\n",
       "      <td>0.0</td>\n",
       "      <td>0.0</td>\n",
       "      <td>0.0</td>\n",
       "      <td>0.0</td>\n",
       "      <td>0.0</td>\n",
       "      <td>0.0</td>\n",
       "      <td>1.0</td>\n",
       "    </tr>\n",
       "    <tr>\n",
       "      <th>4517</th>\n",
       "      <td>1.496912</td>\n",
       "      <td>-1.573671</td>\n",
       "      <td>-0.838546</td>\n",
       "      <td>-0.427057</td>\n",
       "      <td>-0.576829</td>\n",
       "      <td>-0.407218</td>\n",
       "      <td>-0.320413</td>\n",
       "      <td>0.0</td>\n",
       "      <td>0.0</td>\n",
       "      <td>0.0</td>\n",
       "      <td>...</td>\n",
       "      <td>0.0</td>\n",
       "      <td>0.0</td>\n",
       "      <td>1.0</td>\n",
       "      <td>0.0</td>\n",
       "      <td>0.0</td>\n",
       "      <td>0.0</td>\n",
       "      <td>0.0</td>\n",
       "      <td>0.0</td>\n",
       "      <td>0.0</td>\n",
       "      <td>1.0</td>\n",
       "    </tr>\n",
       "    <tr>\n",
       "      <th>4518</th>\n",
       "      <td>1.496912</td>\n",
       "      <td>-0.374724</td>\n",
       "      <td>0.374052</td>\n",
       "      <td>-0.434754</td>\n",
       "      <td>2.639160</td>\n",
       "      <td>-0.407218</td>\n",
       "      <td>-0.320413</td>\n",
       "      <td>1.0</td>\n",
       "      <td>0.0</td>\n",
       "      <td>0.0</td>\n",
       "      <td>...</td>\n",
       "      <td>0.0</td>\n",
       "      <td>0.0</td>\n",
       "      <td>0.0</td>\n",
       "      <td>0.0</td>\n",
       "      <td>0.0</td>\n",
       "      <td>0.0</td>\n",
       "      <td>0.0</td>\n",
       "      <td>0.0</td>\n",
       "      <td>0.0</td>\n",
       "      <td>1.0</td>\n",
       "    </tr>\n",
       "    <tr>\n",
       "      <th>4519</th>\n",
       "      <td>-1.245394</td>\n",
       "      <td>-0.094925</td>\n",
       "      <td>-1.202326</td>\n",
       "      <td>-0.519426</td>\n",
       "      <td>0.387967</td>\n",
       "      <td>1.710451</td>\n",
       "      <td>1.451197</td>\n",
       "      <td>1.0</td>\n",
       "      <td>0.0</td>\n",
       "      <td>1.0</td>\n",
       "      <td>...</td>\n",
       "      <td>0.0</td>\n",
       "      <td>0.0</td>\n",
       "      <td>0.0</td>\n",
       "      <td>0.0</td>\n",
       "      <td>0.0</td>\n",
       "      <td>0.0</td>\n",
       "      <td>0.0</td>\n",
       "      <td>1.0</td>\n",
       "      <td>0.0</td>\n",
       "      <td>0.0</td>\n",
       "    </tr>\n",
       "    <tr>\n",
       "      <th>4520</th>\n",
       "      <td>0.267602</td>\n",
       "      <td>-0.095257</td>\n",
       "      <td>-1.566105</td>\n",
       "      <td>0.311894</td>\n",
       "      <td>-0.255231</td>\n",
       "      <td>2.090033</td>\n",
       "      <td>3.813344</td>\n",
       "      <td>0.0</td>\n",
       "      <td>0.0</td>\n",
       "      <td>0.0</td>\n",
       "      <td>...</td>\n",
       "      <td>0.0</td>\n",
       "      <td>0.0</td>\n",
       "      <td>0.0</td>\n",
       "      <td>0.0</td>\n",
       "      <td>0.0</td>\n",
       "      <td>0.0</td>\n",
       "      <td>0.0</td>\n",
       "      <td>1.0</td>\n",
       "      <td>0.0</td>\n",
       "      <td>0.0</td>\n",
       "    </tr>\n",
       "  </tbody>\n",
       "</table>\n",
       "<p>4521 rows × 48 columns</p>\n",
       "</div>"
      ],
      "text/plain": [
       "            0         1         2         3         4         5         6   \\\n",
       "0    -1.056270  0.121072  0.374052 -0.711861 -0.576829 -0.407218 -0.320413   \n",
       "1    -0.772583  1.118644 -0.596026 -0.169194 -0.576829  2.989044  2.041734   \n",
       "2    -0.583458 -0.024144  0.010273 -0.303898 -0.576829  2.899143  0.270124   \n",
       "3    -1.056270  0.017726 -1.566105 -0.250017  0.387967 -0.407218 -0.320413   \n",
       "4     1.686036 -0.472753 -1.323585 -0.146102 -0.576829 -0.407218 -0.320413   \n",
       "...        ...       ...       ...       ...       ...       ...       ...   \n",
       "4516 -0.772583 -0.583410  1.707910  0.250315  0.709566 -0.407218 -0.320413   \n",
       "4517  1.496912 -1.573671 -0.838546 -0.427057 -0.576829 -0.407218 -0.320413   \n",
       "4518  1.496912 -0.374724  0.374052 -0.434754  2.639160 -0.407218 -0.320413   \n",
       "4519 -1.245394 -0.094925 -1.202326 -0.519426  0.387967  1.710451  1.451197   \n",
       "4520  0.267602 -0.095257 -1.566105  0.311894 -0.255231  2.090033  3.813344   \n",
       "\n",
       "       7    8    9   ...   38   39   40   41   42   43   44   45   46   47  \n",
       "0     2.0  0.0  0.0  ...  0.0  0.0  0.0  0.0  1.0  0.0  0.0  0.0  0.0  1.0  \n",
       "1     1.0  0.0  0.0  ...  0.0  0.0  1.0  0.0  0.0  0.0  1.0  0.0  0.0  0.0  \n",
       "2     0.0  0.0  0.0  ...  0.0  0.0  0.0  0.0  0.0  0.0  1.0  0.0  0.0  0.0  \n",
       "3     0.0  0.0  0.0  ...  1.0  0.0  0.0  0.0  0.0  0.0  0.0  0.0  0.0  1.0  \n",
       "4     1.0  0.0  1.0  ...  0.0  0.0  1.0  0.0  0.0  0.0  0.0  0.0  0.0  1.0  \n",
       "...   ...  ...  ...  ...  ...  ...  ...  ...  ...  ...  ...  ...  ...  ...  \n",
       "4516  1.0  0.0  0.0  ...  0.0  0.0  0.0  0.0  0.0  0.0  0.0  0.0  0.0  1.0  \n",
       "4517  0.0  0.0  0.0  ...  0.0  0.0  1.0  0.0  0.0  0.0  0.0  0.0  0.0  1.0  \n",
       "4518  1.0  0.0  0.0  ...  0.0  0.0  0.0  0.0  0.0  0.0  0.0  0.0  0.0  1.0  \n",
       "4519  1.0  0.0  1.0  ...  0.0  0.0  0.0  0.0  0.0  0.0  0.0  1.0  0.0  0.0  \n",
       "4520  0.0  0.0  0.0  ...  0.0  0.0  0.0  0.0  0.0  0.0  0.0  1.0  0.0  0.0  \n",
       "\n",
       "[4521 rows x 48 columns]"
      ]
     },
     "execution_count": 53,
     "metadata": {},
     "output_type": "execute_result"
    }
   ],
   "source": [
    "pd.DataFrame(transform_X)"
   ]
  },
  {
   "cell_type": "markdown",
   "id": "39fd9b20",
   "metadata": {
    "papermill": {
     "duration": 0.029566,
     "end_time": "2023-02-03T18:05:51.648759",
     "exception": false,
     "start_time": "2023-02-03T18:05:51.619193",
     "status": "completed"
    },
    "tags": []
   },
   "source": [
    "*Since there is many feature present here so we should selection here*"
   ]
  },
  {
   "cell_type": "code",
   "execution_count": 54,
   "id": "38e4e52f",
   "metadata": {
    "execution": {
     "iopub.execute_input": "2023-02-03T18:05:51.711256Z",
     "iopub.status.busy": "2023-02-03T18:05:51.709957Z",
     "iopub.status.idle": "2023-02-03T18:05:51.815400Z",
     "shell.execute_reply": "2023-02-03T18:05:51.813656Z"
    },
    "papermill": {
     "duration": 0.139825,
     "end_time": "2023-02-03T18:05:51.818442",
     "exception": false,
     "start_time": "2023-02-03T18:05:51.678617",
     "status": "completed"
    },
    "tags": []
   },
   "outputs": [],
   "source": [
    "from sklearn.feature_selection import RFE\n",
    "from sklearn.ensemble import RandomForestClassifier"
   ]
  },
  {
   "cell_type": "code",
   "execution_count": 55,
   "id": "5c65dfc0",
   "metadata": {
    "execution": {
     "iopub.execute_input": "2023-02-03T18:05:51.883265Z",
     "iopub.status.busy": "2023-02-03T18:05:51.882785Z",
     "iopub.status.idle": "2023-02-03T18:06:08.388354Z",
     "shell.execute_reply": "2023-02-03T18:06:08.387361Z"
    },
    "papermill": {
     "duration": 16.540523,
     "end_time": "2023-02-03T18:06:08.391361",
     "exception": false,
     "start_time": "2023-02-03T18:05:51.850838",
     "status": "completed"
    },
    "tags": []
   },
   "outputs": [],
   "source": [
    "estimator = RandomForestClassifier(random_state=1)\n",
    "selector = RFE(estimator, step=1)\n",
    "selector = selector.fit(transform_X, y)"
   ]
  },
  {
   "cell_type": "code",
   "execution_count": 56,
   "id": "9461c879",
   "metadata": {
    "execution": {
     "iopub.execute_input": "2023-02-03T18:06:08.454981Z",
     "iopub.status.busy": "2023-02-03T18:06:08.454538Z",
     "iopub.status.idle": "2023-02-03T18:06:08.463558Z",
     "shell.execute_reply": "2023-02-03T18:06:08.462301Z"
    },
    "papermill": {
     "duration": 0.043591,
     "end_time": "2023-02-03T18:06:08.466032",
     "exception": false,
     "start_time": "2023-02-03T18:06:08.422441",
     "status": "completed"
    },
    "tags": []
   },
   "outputs": [
    {
     "data": {
      "text/plain": [
       "(4521, 24)"
      ]
     },
     "execution_count": 56,
     "metadata": {},
     "output_type": "execute_result"
    }
   ],
   "source": [
    "X_new = selector.transform(transform_X)\n",
    "X_new.shape"
   ]
  },
  {
   "cell_type": "code",
   "execution_count": 57,
   "id": "68bc3bb7",
   "metadata": {
    "execution": {
     "iopub.execute_input": "2023-02-03T18:06:08.529703Z",
     "iopub.status.busy": "2023-02-03T18:06:08.528668Z",
     "iopub.status.idle": "2023-02-03T18:06:08.538754Z",
     "shell.execute_reply": "2023-02-03T18:06:08.537490Z"
    },
    "papermill": {
     "duration": 0.044947,
     "end_time": "2023-02-03T18:06:08.541412",
     "exception": false,
     "start_time": "2023-02-03T18:06:08.496465",
     "status": "completed"
    },
    "tags": []
   },
   "outputs": [
    {
     "data": {
      "text/plain": [
       "0    4000\n",
       "1     521\n",
       "Name: y, dtype: int64"
      ]
     },
     "execution_count": 57,
     "metadata": {},
     "output_type": "execute_result"
    }
   ],
   "source": [
    "y.value_counts()"
   ]
  },
  {
   "cell_type": "markdown",
   "id": "27c5e4a6",
   "metadata": {
    "papermill": {
     "duration": 0.030567,
     "end_time": "2023-02-03T18:06:08.603264",
     "exception": false,
     "start_time": "2023-02-03T18:06:08.572697",
     "status": "completed"
    },
    "tags": []
   },
   "source": [
    "*Here we can clearly see that the data is cleary imbalance so we have to use imblearn to balance the data.*"
   ]
  },
  {
   "cell_type": "code",
   "execution_count": 58,
   "id": "24fd0af0",
   "metadata": {
    "execution": {
     "iopub.execute_input": "2023-02-03T18:06:08.667469Z",
     "iopub.status.busy": "2023-02-03T18:06:08.666987Z",
     "iopub.status.idle": "2023-02-03T18:06:10.076526Z",
     "shell.execute_reply": "2023-02-03T18:06:10.075394Z"
    },
    "papermill": {
     "duration": 1.445559,
     "end_time": "2023-02-03T18:06:10.079554",
     "exception": false,
     "start_time": "2023-02-03T18:06:08.633995",
     "status": "completed"
    },
    "tags": []
   },
   "outputs": [],
   "source": [
    "# Using SMOTETomek to balance the data.\n",
    "\n",
    "from imblearn.combine import SMOTETomek\n",
    "smt = SMOTETomek(random_state=42)\n",
    "X1, y1 = smt.fit_resample(X_new, y)"
   ]
  },
  {
   "cell_type": "code",
   "execution_count": 59,
   "id": "9a6819fd",
   "metadata": {
    "execution": {
     "iopub.execute_input": "2023-02-03T18:06:10.144067Z",
     "iopub.status.busy": "2023-02-03T18:06:10.143629Z",
     "iopub.status.idle": "2023-02-03T18:06:10.152582Z",
     "shell.execute_reply": "2023-02-03T18:06:10.151379Z"
    },
    "papermill": {
     "duration": 0.044093,
     "end_time": "2023-02-03T18:06:10.155244",
     "exception": false,
     "start_time": "2023-02-03T18:06:10.111151",
     "status": "completed"
    },
    "tags": []
   },
   "outputs": [
    {
     "data": {
      "text/plain": [
       "0    3997\n",
       "1    3997\n",
       "Name: y, dtype: int64"
      ]
     },
     "execution_count": 59,
     "metadata": {},
     "output_type": "execute_result"
    }
   ],
   "source": [
    "y1.value_counts()"
   ]
  },
  {
   "cell_type": "code",
   "execution_count": 60,
   "id": "f6e80950",
   "metadata": {
    "execution": {
     "iopub.execute_input": "2023-02-03T18:06:10.220388Z",
     "iopub.status.busy": "2023-02-03T18:06:10.219551Z",
     "iopub.status.idle": "2023-02-03T18:06:10.225597Z",
     "shell.execute_reply": "2023-02-03T18:06:10.224797Z"
    },
    "papermill": {
     "duration": 0.040956,
     "end_time": "2023-02-03T18:06:10.227679",
     "exception": false,
     "start_time": "2023-02-03T18:06:10.186723",
     "status": "completed"
    },
    "tags": []
   },
   "outputs": [
    {
     "data": {
      "text/plain": [
       "(7994, 24)"
      ]
     },
     "execution_count": 60,
     "metadata": {},
     "output_type": "execute_result"
    }
   ],
   "source": [
    "X1.shape"
   ]
  },
  {
   "cell_type": "markdown",
   "id": "7c2ed8fe",
   "metadata": {
    "papermill": {
     "duration": 0.030599,
     "end_time": "2023-02-03T18:06:10.289479",
     "exception": false,
     "start_time": "2023-02-03T18:06:10.258880",
     "status": "completed"
    },
    "tags": []
   },
   "source": [
    "**Model Training**"
   ]
  },
  {
   "cell_type": "markdown",
   "id": "20360193",
   "metadata": {
    "papermill": {
     "duration": 0.030956,
     "end_time": "2023-02-03T18:06:10.351389",
     "exception": false,
     "start_time": "2023-02-03T18:06:10.320433",
     "status": "completed"
    },
    "tags": []
   },
   "source": [
    "*Before training the model first split the data into train and test set*"
   ]
  },
  {
   "cell_type": "code",
   "execution_count": 61,
   "id": "26ee8cf2",
   "metadata": {
    "execution": {
     "iopub.execute_input": "2023-02-03T18:06:10.415568Z",
     "iopub.status.busy": "2023-02-03T18:06:10.414851Z",
     "iopub.status.idle": "2023-02-03T18:06:10.419724Z",
     "shell.execute_reply": "2023-02-03T18:06:10.418621Z"
    },
    "papermill": {
     "duration": 0.039933,
     "end_time": "2023-02-03T18:06:10.422287",
     "exception": false,
     "start_time": "2023-02-03T18:06:10.382354",
     "status": "completed"
    },
    "tags": []
   },
   "outputs": [],
   "source": [
    "from sklearn.model_selection import train_test_split"
   ]
  },
  {
   "cell_type": "code",
   "execution_count": 62,
   "id": "59f2be01",
   "metadata": {
    "execution": {
     "iopub.execute_input": "2023-02-03T18:06:10.487207Z",
     "iopub.status.busy": "2023-02-03T18:06:10.486741Z",
     "iopub.status.idle": "2023-02-03T18:06:10.495643Z",
     "shell.execute_reply": "2023-02-03T18:06:10.494399Z"
    },
    "papermill": {
     "duration": 0.045095,
     "end_time": "2023-02-03T18:06:10.498284",
     "exception": false,
     "start_time": "2023-02-03T18:06:10.453189",
     "status": "completed"
    },
    "tags": []
   },
   "outputs": [],
   "source": [
    "X_train, X_test, y_train, y_test = train_test_split(X1, y1,\n",
    "                                                    test_size=0.3, random_state=42)\n",
    " "
   ]
  },
  {
   "cell_type": "code",
   "execution_count": 63,
   "id": "3f271791",
   "metadata": {
    "execution": {
     "iopub.execute_input": "2023-02-03T18:06:10.562138Z",
     "iopub.status.busy": "2023-02-03T18:06:10.561390Z",
     "iopub.status.idle": "2023-02-03T18:06:10.579184Z",
     "shell.execute_reply": "2023-02-03T18:06:10.578209Z"
    },
    "papermill": {
     "duration": 0.053047,
     "end_time": "2023-02-03T18:06:10.582101",
     "exception": false,
     "start_time": "2023-02-03T18:06:10.529054",
     "status": "completed"
    },
    "tags": []
   },
   "outputs": [],
   "source": [
    "# importing all the necessary model\n",
    "\n",
    "from sklearn.model_selection import cross_val_score\n",
    "from sklearn.naive_bayes import GaussianNB\n",
    "from sklearn.linear_model import LogisticRegression\n",
    "from sklearn import tree\n",
    "from sklearn.neighbors import KNeighborsClassifier\n",
    "from sklearn.ensemble import RandomForestClassifier\n",
    "from sklearn.svm import SVC\n",
    "from sklearn.tree import DecisionTreeClassifier\n",
    "from sklearn.linear_model import RidgeClassifier\n",
    "from sklearn.linear_model import Perceptron\n",
    "from sklearn.neural_network import MLPClassifier"
   ]
  },
  {
   "cell_type": "markdown",
   "id": "63fbf31a",
   "metadata": {
    "papermill": {
     "duration": 0.030133,
     "end_time": "2023-02-03T18:06:10.643632",
     "exception": false,
     "start_time": "2023-02-03T18:06:10.613499",
     "status": "completed"
    },
    "tags": []
   },
   "source": [
    "*Using differnt model to check cross val score.*"
   ]
  },
  {
   "cell_type": "code",
   "execution_count": 64,
   "id": "9bd48f30",
   "metadata": {
    "execution": {
     "iopub.execute_input": "2023-02-03T18:06:10.709778Z",
     "iopub.status.busy": "2023-02-03T18:06:10.708998Z",
     "iopub.status.idle": "2023-02-03T18:06:10.746668Z",
     "shell.execute_reply": "2023-02-03T18:06:10.745091Z"
    },
    "papermill": {
     "duration": 0.075009,
     "end_time": "2023-02-03T18:06:10.750410",
     "exception": false,
     "start_time": "2023-02-03T18:06:10.675401",
     "status": "completed"
    },
    "tags": []
   },
   "outputs": [
    {
     "name": "stdout",
     "output_type": "stream",
     "text": [
      "[0.77033065 0.7613941  0.79624665 0.76586238 0.76050045]\n",
      "0.7708668453976765\n"
     ]
    }
   ],
   "source": [
    "gnb = GaussianNB()\n",
    "cv = cross_val_score(gnb,X_train,y_train,cv=5)\n",
    "print(cv)\n",
    "print(cv.mean())"
   ]
  },
  {
   "cell_type": "code",
   "execution_count": 65,
   "id": "cfe87299",
   "metadata": {
    "execution": {
     "iopub.execute_input": "2023-02-03T18:06:10.817306Z",
     "iopub.status.busy": "2023-02-03T18:06:10.816096Z",
     "iopub.status.idle": "2023-02-03T18:06:11.348093Z",
     "shell.execute_reply": "2023-02-03T18:06:11.346153Z"
    },
    "papermill": {
     "duration": 0.571366,
     "end_time": "2023-02-03T18:06:11.353555",
     "exception": false,
     "start_time": "2023-02-03T18:06:10.782189",
     "status": "completed"
    },
    "tags": []
   },
   "outputs": [
    {
     "name": "stdout",
     "output_type": "stream",
     "text": [
      "[0.82216265 0.82841823 0.83378016 0.83199285 0.83646113]\n",
      "0.8305630026809651\n"
     ]
    }
   ],
   "source": [
    "lr = LogisticRegression(max_iter = 2000)\n",
    "cv = cross_val_score(lr,X_train,y_train,cv=5)\n",
    "print(cv)\n",
    "print(cv.mean())"
   ]
  },
  {
   "cell_type": "code",
   "execution_count": 66,
   "id": "47a9ab26",
   "metadata": {
    "execution": {
     "iopub.execute_input": "2023-02-03T18:06:11.485800Z",
     "iopub.status.busy": "2023-02-03T18:06:11.485298Z",
     "iopub.status.idle": "2023-02-03T18:06:11.719852Z",
     "shell.execute_reply": "2023-02-03T18:06:11.718396Z"
    },
    "papermill": {
     "duration": 0.287649,
     "end_time": "2023-02-03T18:06:11.722751",
     "exception": false,
     "start_time": "2023-02-03T18:06:11.435102",
     "status": "completed"
    },
    "tags": []
   },
   "outputs": [
    {
     "name": "stdout",
     "output_type": "stream",
     "text": [
      "[0.90080429 0.89276139 0.88829312 0.9025916  0.90527256]\n",
      "0.8979445933869525\n"
     ]
    }
   ],
   "source": [
    "dt = tree.DecisionTreeClassifier(random_state = 1)\n",
    "cv = cross_val_score(dt,X_train,y_train,cv=5)\n",
    "print(cv)\n",
    "print(cv.mean())"
   ]
  },
  {
   "cell_type": "code",
   "execution_count": 67,
   "id": "7ab7e126",
   "metadata": {
    "execution": {
     "iopub.execute_input": "2023-02-03T18:06:11.787103Z",
     "iopub.status.busy": "2023-02-03T18:06:11.786635Z",
     "iopub.status.idle": "2023-02-03T18:06:12.767020Z",
     "shell.execute_reply": "2023-02-03T18:06:12.765758Z"
    },
    "papermill": {
     "duration": 1.015951,
     "end_time": "2023-02-03T18:06:12.769738",
     "exception": false,
     "start_time": "2023-02-03T18:06:11.753787",
     "status": "completed"
    },
    "tags": []
   },
   "outputs": [
    {
     "name": "stderr",
     "output_type": "stream",
     "text": [
      "C:\\Users\\Sahil\\anaconda3\\lib\\site-packages\\sklearn\\neighbors\\_classification.py:228: FutureWarning: Unlike other reduction functions (e.g. `skew`, `kurtosis`), the default behavior of `mode` typically preserves the axis it acts along. In SciPy 1.11.0, this behavior will change: the default value of `keepdims` will become False, the `axis` over which the statistic is taken will be eliminated, and the value None will no longer be accepted. Set `keepdims` to True or False to avoid this warning.\n",
      "  mode, _ = stats.mode(_y[neigh_ind, k], axis=1)\n",
      "C:\\Users\\Sahil\\anaconda3\\lib\\site-packages\\sklearn\\neighbors\\_classification.py:228: FutureWarning: Unlike other reduction functions (e.g. `skew`, `kurtosis`), the default behavior of `mode` typically preserves the axis it acts along. In SciPy 1.11.0, this behavior will change: the default value of `keepdims` will become False, the `axis` over which the statistic is taken will be eliminated, and the value None will no longer be accepted. Set `keepdims` to True or False to avoid this warning.\n",
      "  mode, _ = stats.mode(_y[neigh_ind, k], axis=1)\n",
      "C:\\Users\\Sahil\\anaconda3\\lib\\site-packages\\sklearn\\neighbors\\_classification.py:228: FutureWarning: Unlike other reduction functions (e.g. `skew`, `kurtosis`), the default behavior of `mode` typically preserves the axis it acts along. In SciPy 1.11.0, this behavior will change: the default value of `keepdims` will become False, the `axis` over which the statistic is taken will be eliminated, and the value None will no longer be accepted. Set `keepdims` to True or False to avoid this warning.\n",
      "  mode, _ = stats.mode(_y[neigh_ind, k], axis=1)\n",
      "C:\\Users\\Sahil\\anaconda3\\lib\\site-packages\\sklearn\\neighbors\\_classification.py:228: FutureWarning: Unlike other reduction functions (e.g. `skew`, `kurtosis`), the default behavior of `mode` typically preserves the axis it acts along. In SciPy 1.11.0, this behavior will change: the default value of `keepdims` will become False, the `axis` over which the statistic is taken will be eliminated, and the value None will no longer be accepted. Set `keepdims` to True or False to avoid this warning.\n",
      "  mode, _ = stats.mode(_y[neigh_ind, k], axis=1)\n"
     ]
    },
    {
     "name": "stdout",
     "output_type": "stream",
     "text": [
      "[0.88203753 0.9025916  0.88918677 0.89276139 0.91331546]\n",
      "0.8959785522788202\n"
     ]
    },
    {
     "name": "stderr",
     "output_type": "stream",
     "text": [
      "C:\\Users\\Sahil\\anaconda3\\lib\\site-packages\\sklearn\\neighbors\\_classification.py:228: FutureWarning: Unlike other reduction functions (e.g. `skew`, `kurtosis`), the default behavior of `mode` typically preserves the axis it acts along. In SciPy 1.11.0, this behavior will change: the default value of `keepdims` will become False, the `axis` over which the statistic is taken will be eliminated, and the value None will no longer be accepted. Set `keepdims` to True or False to avoid this warning.\n",
      "  mode, _ = stats.mode(_y[neigh_ind, k], axis=1)\n"
     ]
    }
   ],
   "source": [
    "knn = KNeighborsClassifier()\n",
    "cv = cross_val_score(knn,X_train,y_train,cv=5)\n",
    "print(cv)\n",
    "print(cv.mean())"
   ]
  },
  {
   "cell_type": "code",
   "execution_count": 68,
   "id": "f65224cd",
   "metadata": {
    "execution": {
     "iopub.execute_input": "2023-02-03T18:06:12.834620Z",
     "iopub.status.busy": "2023-02-03T18:06:12.833424Z",
     "iopub.status.idle": "2023-02-03T18:06:16.460750Z",
     "shell.execute_reply": "2023-02-03T18:06:16.459111Z"
    },
    "papermill": {
     "duration": 3.665249,
     "end_time": "2023-02-03T18:06:16.465467",
     "exception": false,
     "start_time": "2023-02-03T18:06:12.800218",
     "status": "completed"
    },
    "tags": []
   },
   "outputs": [
    {
     "name": "stdout",
     "output_type": "stream",
     "text": [
      "[0.94906166 0.94280608 0.9463807  0.9562109  0.94369973]\n",
      "0.9476318141197497\n"
     ]
    }
   ],
   "source": [
    "rf = RandomForestClassifier(random_state = 1)\n",
    "cv = cross_val_score(rf,X_train,y_train,cv=5)\n",
    "print(cv)\n",
    "print(cv.mean())"
   ]
  },
  {
   "cell_type": "code",
   "execution_count": 69,
   "id": "77b4c99a",
   "metadata": {
    "execution": {
     "iopub.execute_input": "2023-02-03T18:06:16.531046Z",
     "iopub.status.busy": "2023-02-03T18:06:16.529878Z",
     "iopub.status.idle": "2023-02-03T18:06:34.412184Z",
     "shell.execute_reply": "2023-02-03T18:06:34.410728Z"
    },
    "papermill": {
     "duration": 17.917678,
     "end_time": "2023-02-03T18:06:34.415214",
     "exception": false,
     "start_time": "2023-02-03T18:06:16.497536",
     "status": "completed"
    },
    "tags": []
   },
   "outputs": [
    {
     "name": "stdout",
     "output_type": "stream",
     "text": [
      "[0.88114388 0.88114388 0.88293119 0.88829312 0.89722967]\n",
      "0.8861483467381589\n"
     ]
    }
   ],
   "source": [
    "svc = SVC(probability = True)\n",
    "cv = cross_val_score(svc,X_train,y_train,cv=5)\n",
    "print(cv)\n",
    "print(cv.mean())"
   ]
  },
  {
   "cell_type": "code",
   "execution_count": 70,
   "id": "0b9eb92e",
   "metadata": {
    "execution": {
     "iopub.execute_input": "2023-02-03T18:06:34.479486Z",
     "iopub.status.busy": "2023-02-03T18:06:34.478998Z",
     "iopub.status.idle": "2023-02-03T18:06:34.484906Z",
     "shell.execute_reply": "2023-02-03T18:06:34.483713Z"
    },
    "papermill": {
     "duration": 0.04088,
     "end_time": "2023-02-03T18:06:34.487293",
     "exception": false,
     "start_time": "2023-02-03T18:06:34.446413",
     "status": "completed"
    },
    "tags": []
   },
   "outputs": [],
   "source": [
    "from sklearn.ensemble import VotingClassifier\n",
    "voting_clf = VotingClassifier(estimators = [('lr',lr),('knn',knn),('rf',rf),('gnb',gnb),('svc',svc)], voting = 'soft') "
   ]
  },
  {
   "cell_type": "code",
   "execution_count": 71,
   "id": "5da30900",
   "metadata": {
    "execution": {
     "iopub.execute_input": "2023-02-03T18:06:34.555143Z",
     "iopub.status.busy": "2023-02-03T18:06:34.553919Z",
     "iopub.status.idle": "2023-02-03T18:06:57.362871Z",
     "shell.execute_reply": "2023-02-03T18:06:57.360166Z"
    },
    "papermill": {
     "duration": 22.844505,
     "end_time": "2023-02-03T18:06:57.366035",
     "exception": false,
     "start_time": "2023-02-03T18:06:34.521530",
     "status": "completed"
    },
    "tags": []
   },
   "outputs": [
    {
     "name": "stdout",
     "output_type": "stream",
     "text": [
      "[0.9106345  0.89722967 0.91957105 0.91510277 0.91867739]\n",
      "0.9122430741733691\n"
     ]
    }
   ],
   "source": [
    "cv = cross_val_score(voting_clf,X_train,y_train,cv=5)\n",
    "print(cv)\n",
    "print(cv.mean())"
   ]
  },
  {
   "cell_type": "markdown",
   "id": "c4ae13ee",
   "metadata": {
    "papermill": {
     "duration": 0.030524,
     "end_time": "2023-02-03T18:06:57.428105",
     "exception": false,
     "start_time": "2023-02-03T18:06:57.397581",
     "status": "completed"
    },
    "tags": []
   },
   "source": [
    "**Model Hyperparameter tuning**"
   ]
  },
  {
   "cell_type": "code",
   "execution_count": 72,
   "id": "c1089466",
   "metadata": {
    "execution": {
     "iopub.execute_input": "2023-02-03T18:06:57.493079Z",
     "iopub.status.busy": "2023-02-03T18:06:57.492381Z",
     "iopub.status.idle": "2023-02-03T18:06:57.497000Z",
     "shell.execute_reply": "2023-02-03T18:06:57.495846Z"
    },
    "papermill": {
     "duration": 0.040048,
     "end_time": "2023-02-03T18:06:57.499501",
     "exception": false,
     "start_time": "2023-02-03T18:06:57.459453",
     "status": "completed"
    },
    "tags": []
   },
   "outputs": [],
   "source": [
    "from sklearn.model_selection import GridSearchCV \n",
    "from sklearn.model_selection import RandomizedSearchCV "
   ]
  },
  {
   "cell_type": "code",
   "execution_count": 73,
   "id": "38fe7c65",
   "metadata": {
    "execution": {
     "iopub.execute_input": "2023-02-03T18:06:57.565305Z",
     "iopub.status.busy": "2023-02-03T18:06:57.564835Z",
     "iopub.status.idle": "2023-02-03T18:06:57.570702Z",
     "shell.execute_reply": "2023-02-03T18:06:57.569529Z"
    },
    "papermill": {
     "duration": 0.042313,
     "end_time": "2023-02-03T18:06:57.573043",
     "exception": false,
     "start_time": "2023-02-03T18:06:57.530730",
     "status": "completed"
    },
    "tags": []
   },
   "outputs": [],
   "source": [
    "def clf_performance(classifier, model_name):\n",
    "    print(model_name)\n",
    "    print('Best Score: ' + str(classifier.best_score_))\n",
    "    print('Best Parameters: ' + str(classifier.best_params_))"
   ]
  },
  {
   "cell_type": "code",
   "execution_count": 74,
   "id": "f010f90d",
   "metadata": {
    "execution": {
     "iopub.execute_input": "2023-02-03T18:06:57.995418Z",
     "iopub.status.busy": "2023-02-03T18:06:57.994612Z",
     "iopub.status.idle": "2023-02-03T18:07:13.474343Z",
     "shell.execute_reply": "2023-02-03T18:07:13.473077Z"
    },
    "papermill": {
     "duration": 15.515769,
     "end_time": "2023-02-03T18:07:13.477760",
     "exception": false,
     "start_time": "2023-02-03T18:06:57.961991",
     "status": "completed"
    },
    "tags": []
   },
   "outputs": [],
   "source": [
    "rf_best = RandomForestClassifier( bootstrap =False, criterion = 'entropy', max_depth = 24, max_features = 11, min_samples_leaf = 2, min_samples_split = 2, n_estimators = 568)\n",
    "\n",
    "rf_best_fit = rf_best.fit(X_train,y_train)"
   ]
  },
  {
   "cell_type": "markdown",
   "id": "3d482827",
   "metadata": {
    "papermill": {
     "duration": 0.030708,
     "end_time": "2023-02-03T18:07:13.539691",
     "exception": false,
     "start_time": "2023-02-03T18:07:13.508983",
     "status": "completed"
    },
    "tags": []
   },
   "source": [
    "**Predicting the result**"
   ]
  },
  {
   "cell_type": "code",
   "execution_count": 75,
   "id": "58bf75a2",
   "metadata": {
    "execution": {
     "iopub.execute_input": "2023-02-03T18:07:13.604997Z",
     "iopub.status.busy": "2023-02-03T18:07:13.604270Z",
     "iopub.status.idle": "2023-02-03T18:07:13.609701Z",
     "shell.execute_reply": "2023-02-03T18:07:13.608849Z"
    },
    "papermill": {
     "duration": 0.040553,
     "end_time": "2023-02-03T18:07:13.612034",
     "exception": false,
     "start_time": "2023-02-03T18:07:13.571481",
     "status": "completed"
    },
    "tags": []
   },
   "outputs": [],
   "source": [
    "from sklearn.metrics import ConfusionMatrixDisplay,classification_report,precision_score,recall_score,log_loss,f1_score,roc_curve"
   ]
  },
  {
   "cell_type": "markdown",
   "id": "bd50dae2",
   "metadata": {
    "papermill": {
     "duration": 0.03064,
     "end_time": "2023-02-03T18:07:13.673542",
     "exception": false,
     "start_time": "2023-02-03T18:07:13.642902",
     "status": "completed"
    },
    "tags": []
   },
   "source": [
    "*predicting the score for training data*"
   ]
  },
  {
   "cell_type": "code",
   "execution_count": 76,
   "id": "3b0c1c3b",
   "metadata": {
    "execution": {
     "iopub.execute_input": "2023-02-03T18:07:13.737517Z",
     "iopub.status.busy": "2023-02-03T18:07:13.736718Z",
     "iopub.status.idle": "2023-02-03T18:07:14.315481Z",
     "shell.execute_reply": "2023-02-03T18:07:14.314172Z"
    },
    "papermill": {
     "duration": 0.61415,
     "end_time": "2023-02-03T18:07:14.318675",
     "exception": false,
     "start_time": "2023-02-03T18:07:13.704525",
     "status": "completed"
    },
    "tags": []
   },
   "outputs": [],
   "source": [
    "# predicting the train label using best random forest classifier\n",
    "y_pred_train = rf_best_fit.predict(X_train)"
   ]
  },
  {
   "cell_type": "code",
   "execution_count": 77,
   "id": "cafd08a6",
   "metadata": {
    "execution": {
     "iopub.execute_input": "2023-02-03T18:07:14.384912Z",
     "iopub.status.busy": "2023-02-03T18:07:14.384436Z",
     "iopub.status.idle": "2023-02-03T18:07:14.406301Z",
     "shell.execute_reply": "2023-02-03T18:07:14.405003Z"
    },
    "papermill": {
     "duration": 0.059182,
     "end_time": "2023-02-03T18:07:14.409780",
     "exception": false,
     "start_time": "2023-02-03T18:07:14.350598",
     "status": "completed"
    },
    "tags": []
   },
   "outputs": [
    {
     "name": "stdout",
     "output_type": "stream",
     "text": [
      "              precision    recall  f1-score   support\n",
      "\n",
      "           0       1.00      1.00      1.00      2801\n",
      "           1       1.00      1.00      1.00      2794\n",
      "\n",
      "    accuracy                           1.00      5595\n",
      "   macro avg       1.00      1.00      1.00      5595\n",
      "weighted avg       1.00      1.00      1.00      5595\n",
      "\n"
     ]
    }
   ],
   "source": [
    "print(classification_report(y_train,y_pred_train))"
   ]
  },
  {
   "cell_type": "code",
   "execution_count": 78,
   "id": "5305c867",
   "metadata": {
    "execution": {
     "iopub.execute_input": "2023-02-03T18:07:14.475827Z",
     "iopub.status.busy": "2023-02-03T18:07:14.475369Z",
     "iopub.status.idle": "2023-02-03T18:07:14.485844Z",
     "shell.execute_reply": "2023-02-03T18:07:14.484220Z"
    },
    "papermill": {
     "duration": 0.046072,
     "end_time": "2023-02-03T18:07:14.488807",
     "exception": false,
     "start_time": "2023-02-03T18:07:14.442735",
     "status": "completed"
    },
    "tags": []
   },
   "outputs": [
    {
     "name": "stdout",
     "output_type": "stream",
     "text": [
      "1.0\n"
     ]
    }
   ],
   "source": [
    "print(f1_score(y_train,y_pred_train,average='weighted'))"
   ]
  },
  {
   "cell_type": "code",
   "execution_count": 79,
   "id": "28084ab0",
   "metadata": {
    "execution": {
     "iopub.execute_input": "2023-02-03T18:07:14.554228Z",
     "iopub.status.busy": "2023-02-03T18:07:14.553199Z",
     "iopub.status.idle": "2023-02-03T18:07:14.563244Z",
     "shell.execute_reply": "2023-02-03T18:07:14.561876Z"
    },
    "papermill": {
     "duration": 0.045262,
     "end_time": "2023-02-03T18:07:14.565693",
     "exception": false,
     "start_time": "2023-02-03T18:07:14.520431",
     "status": "completed"
    },
    "tags": []
   },
   "outputs": [
    {
     "name": "stdout",
     "output_type": "stream",
     "text": [
      "[0. 0. 1.]\n",
      "[0. 1. 1.]\n",
      "[2 1 0]\n"
     ]
    }
   ],
   "source": [
    "train_fpr,train_tpr,train_threshold = roc_curve(y_train,y_pred_train)\n",
    "print(train_fpr)\n",
    "print(train_tpr)\n",
    "print(train_threshold)"
   ]
  },
  {
   "cell_type": "code",
   "execution_count": 80,
   "id": "22b3c88d",
   "metadata": {
    "execution": {
     "iopub.execute_input": "2023-02-03T18:07:14.632143Z",
     "iopub.status.busy": "2023-02-03T18:07:14.631637Z",
     "iopub.status.idle": "2023-02-03T18:07:14.880344Z",
     "shell.execute_reply": "2023-02-03T18:07:14.878850Z"
    },
    "papermill": {
     "duration": 0.284647,
     "end_time": "2023-02-03T18:07:14.883149",
     "exception": false,
     "start_time": "2023-02-03T18:07:14.598502",
     "status": "completed"
    },
    "tags": []
   },
   "outputs": [
    {
     "data": {
      "text/plain": [
       "[<matplotlib.lines.Line2D at 0x1a9966353a0>]"
      ]
     },
     "execution_count": 80,
     "metadata": {},
     "output_type": "execute_result"
    },
    {
     "data": {
      "image/png": "[encoded data removed]",
      "text/plain": [
       "<Figure size 500x500 with 1 Axes>"
      ]
     },
     "metadata": {},
     "output_type": "display_data"
    }
   ],
   "source": [
    "plt.figure(figsize=(5,5))\n",
    "plt.plot(train_fpr,train_tpr)"
   ]
  },
  {
   "cell_type": "markdown",
   "id": "9c8064c2",
   "metadata": {
    "papermill": {
     "duration": 0.031445,
     "end_time": "2023-02-03T18:07:14.946293",
     "exception": false,
     "start_time": "2023-02-03T18:07:14.914848",
     "status": "completed"
    },
    "tags": []
   },
   "source": [
    "*Predicting score for test data*"
   ]
  },
  {
   "cell_type": "code",
   "execution_count": 81,
   "id": "3af4cbbb",
   "metadata": {
    "execution": {
     "iopub.execute_input": "2023-02-03T18:07:15.015103Z",
     "iopub.status.busy": "2023-02-03T18:07:15.014212Z",
     "iopub.status.idle": "2023-02-03T18:07:15.330394Z",
     "shell.execute_reply": "2023-02-03T18:07:15.329012Z"
    },
    "papermill": {
     "duration": 0.354529,
     "end_time": "2023-02-03T18:07:15.333601",
     "exception": false,
     "start_time": "2023-02-03T18:07:14.979072",
     "status": "completed"
    },
    "tags": []
   },
   "outputs": [],
   "source": [
    "y_pred_test = rf_best_fit.predict(X_test)"
   ]
  },
  {
   "cell_type": "code",
   "execution_count": 82,
   "id": "bebf098b",
   "metadata": {
    "execution": {
     "iopub.execute_input": "2023-02-03T18:07:15.400027Z",
     "iopub.status.busy": "2023-02-03T18:07:15.399543Z",
     "iopub.status.idle": "2023-02-03T18:07:15.414724Z",
     "shell.execute_reply": "2023-02-03T18:07:15.413105Z"
    },
    "papermill": {
     "duration": 0.051468,
     "end_time": "2023-02-03T18:07:15.417407",
     "exception": false,
     "start_time": "2023-02-03T18:07:15.365939",
     "status": "completed"
    },
    "tags": []
   },
   "outputs": [
    {
     "name": "stdout",
     "output_type": "stream",
     "text": [
      "              precision    recall  f1-score   support\n",
      "\n",
      "           0       0.95      0.94      0.94      1196\n",
      "           1       0.94      0.95      0.94      1203\n",
      "\n",
      "    accuracy                           0.94      2399\n",
      "   macro avg       0.94      0.94      0.94      2399\n",
      "weighted avg       0.94      0.94      0.94      2399\n",
      "\n"
     ]
    }
   ],
   "source": [
    "print(classification_report(y_test,y_pred_test))"
   ]
  },
  {
   "cell_type": "code",
   "execution_count": 83,
   "id": "2a922708",
   "metadata": {
    "execution": {
     "iopub.execute_input": "2023-02-03T18:07:15.482552Z",
     "iopub.status.busy": "2023-02-03T18:07:15.482002Z",
     "iopub.status.idle": "2023-02-03T18:07:15.492130Z",
     "shell.execute_reply": "2023-02-03T18:07:15.490648Z"
    },
    "papermill": {
     "duration": 0.046022,
     "end_time": "2023-02-03T18:07:15.494830",
     "exception": false,
     "start_time": "2023-02-03T18:07:15.448808",
     "status": "completed"
    },
    "tags": []
   },
   "outputs": [
    {
     "name": "stdout",
     "output_type": "stream",
     "text": [
      "0.9445596554370169\n"
     ]
    }
   ],
   "source": [
    "print(f1_score(y_test,y_pred_test,average='weighted'))"
   ]
  },
  {
   "cell_type": "code",
   "execution_count": 84,
   "id": "7e27ec43",
   "metadata": {
    "execution": {
     "iopub.execute_input": "2023-02-03T18:07:15.562713Z",
     "iopub.status.busy": "2023-02-03T18:07:15.561814Z",
     "iopub.status.idle": "2023-02-03T18:07:15.571577Z",
     "shell.execute_reply": "2023-02-03T18:07:15.569958Z"
    },
    "papermill": {
     "duration": 0.047229,
     "end_time": "2023-02-03T18:07:15.574302",
     "exception": false,
     "start_time": "2023-02-03T18:07:15.527073",
     "status": "completed"
    },
    "tags": []
   },
   "outputs": [
    {
     "name": "stdout",
     "output_type": "stream",
     "text": [
      "[0.         0.05769231 1.        ]\n",
      "[0.         0.94679967 1.        ]\n",
      "[2 1 0]\n"
     ]
    }
   ],
   "source": [
    "train_fpr2,train_tpr2,train_threshold2 = roc_curve(y_test,y_pred_test)\n",
    "print(train_fpr2)\n",
    "print(train_tpr2)\n",
    "print(train_threshold2)"
   ]
  },
  {
   "cell_type": "code",
   "execution_count": 85,
   "id": "8670b1b5",
   "metadata": {
    "execution": {
     "iopub.execute_input": "2023-02-03T18:07:15.642184Z",
     "iopub.status.busy": "2023-02-03T18:07:15.641245Z",
     "iopub.status.idle": "2023-02-03T18:07:15.886404Z",
     "shell.execute_reply": "2023-02-03T18:07:15.885394Z"
    },
    "papermill": {
     "duration": 0.281917,
     "end_time": "2023-02-03T18:07:15.889152",
     "exception": false,
     "start_time": "2023-02-03T18:07:15.607235",
     "status": "completed"
    },
    "tags": []
   },
   "outputs": [
    {
     "data": {
      "text/plain": [
       "[<matplotlib.lines.Line2D at 0x1a996665580>]"
      ]
     },
     "execution_count": 85,
     "metadata": {},
     "output_type": "execute_result"
    },
    {
     "data": {
      "image/png": "[encoded data removed]",
      "text/plain": [
       "<Figure size 500x500 with 1 Axes>"
      ]
     },
     "metadata": {},
     "output_type": "display_data"
    }
   ],
   "source": [
    "plt.figure(figsize=(5,5))\n",
    "plt.plot(train_fpr2,train_tpr2)"
   ]
  },
  {
   "cell_type": "code",
   "execution_count": null,
   "id": "5610e886",
   "metadata": {
    "papermill": {
     "duration": 0.033262,
     "end_time": "2023-02-03T18:07:15.954856",
     "exception": false,
     "start_time": "2023-02-03T18:07:15.921594",
     "status": "completed"
    },
    "tags": []
   },
   "outputs": [],
   "source": []
  }
 ],
 "metadata": {
  "kernelspec": {
   "display_name": "Python 3 (ipykernel)",
   "language": "python",
   "name": "python3"
  },
  "language_info": {
   "codemirror_mode": {
    "name": "ipython",
    "version": 3
   },
   "file_extension": ".py",
   "mimetype": "text/x-python",
   "name": "python",
   "nbconvert_exporter": "python",
   "pygments_lexer": "ipython3",
   "version": "3.9.13"
  },
  "papermill": {
   "default_parameters": {},
   "duration": 103.902685,
   "end_time": "2023-02-03T18:07:17.013252",
   "environment_variables": {},
   "exception": null,
   "input_path": "__notebook__.ipynb",
   "output_path": "__notebook__.ipynb",
   "parameters": {},
   "start_time": "2023-02-03T18:05:33.110567",
   "version": "2.3.4"
  }
 },
 "nbformat": 4,
 "nbformat_minor": 5
}
